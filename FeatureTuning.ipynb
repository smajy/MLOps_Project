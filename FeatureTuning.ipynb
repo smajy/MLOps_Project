{
 "cells": [
  {
   "cell_type": "code",
   "execution_count": 2,
   "metadata": {},
   "outputs": [],
   "source": [
    "import numpy as np\n",
    "import pandas as pd\n",
    "import seaborn as sns\n",
    "import matplotlib.pyplot as plt\n",
    "from sklearn.model_selection import train_test_split\n"
   ]
  },
  {
   "cell_type": "code",
   "execution_count": 17,
   "metadata": {},
   "outputs": [],
   "source": [
    "# Load your dataset into a pandas DataFrame\n",
    "df = pd.read_csv('./data/Load/QA.csv')\n"
   ]
  },
  {
   "attachments": {},
   "cell_type": "markdown",
   "metadata": {},
   "source": [
    "# Embedding"
   ]
  },
  {
   "cell_type": "code",
   "execution_count": 18,
   "metadata": {},
   "outputs": [],
   "source": [
    "from dadmatools.embeddings import get_embedding\n",
    "import pandas as pd\n",
    "\n",
    "#### load embedding ####\n",
    "word_embedding = get_embedding('glove-wiki')"
   ]
  },
  {
   "cell_type": "code",
   "execution_count": 19,
   "metadata": {},
   "outputs": [],
   "source": [
    "df['question'] = df['question'].apply(lambda x: word_embedding.embedding_text(x))\n",
    "df['answer'] = df['answer'].apply(lambda x: word_embedding.embedding_text(x))"
   ]
  },
  {
   "cell_type": "code",
   "execution_count": 24,
   "metadata": {},
   "outputs": [
    {
     "data": {
      "text/html": [
       "<div>\n",
       "<style scoped>\n",
       "    .dataframe tbody tr th:only-of-type {\n",
       "        vertical-align: middle;\n",
       "    }\n",
       "\n",
       "    .dataframe tbody tr th {\n",
       "        vertical-align: top;\n",
       "    }\n",
       "\n",
       "    .dataframe thead th {\n",
       "        text-align: right;\n",
       "    }\n",
       "</style>\n",
       "<table border=\"1\" class=\"dataframe\">\n",
       "  <thead>\n",
       "    <tr style=\"text-align: right;\">\n",
       "      <th></th>\n",
       "      <th>question</th>\n",
       "      <th>answer</th>\n",
       "    </tr>\n",
       "  </thead>\n",
       "  <tbody>\n",
       "    <tr>\n",
       "      <th>0</th>\n",
       "      <td>[-0.052625213, 0.079950415, -1.9313812, 0.0223...</td>\n",
       "      <td>[0.04759143, 0.053199004, -1.951094, 0.0612557...</td>\n",
       "    </tr>\n",
       "    <tr>\n",
       "      <th>1</th>\n",
       "      <td>[0.160093, 0.12114633, -1.9946089, 0.17719616,...</td>\n",
       "      <td>[-0.2702885, 0.019821702, -2.035978, -0.159718...</td>\n",
       "    </tr>\n",
       "    <tr>\n",
       "      <th>2</th>\n",
       "      <td>[-0.099915, 0.2153509, -2.388649, -0.21130906,...</td>\n",
       "      <td>[0.00041904548, -0.05147257, -2.2782657, -0.15...</td>\n",
       "    </tr>\n",
       "    <tr>\n",
       "      <th>3</th>\n",
       "      <td>[-0.099327825, 0.19049068, -2.3185666, -0.0299...</td>\n",
       "      <td>[-0.08595536, -0.054866087, -2.8274214, -0.116...</td>\n",
       "    </tr>\n",
       "    <tr>\n",
       "      <th>4</th>\n",
       "      <td>[0.002224515, 0.023029258, -2.0074282, -0.2613...</td>\n",
       "      <td>[0.66262746, -0.13506825, -2.440193, -0.435804...</td>\n",
       "    </tr>\n",
       "    <tr>\n",
       "      <th>...</th>\n",
       "      <td>...</td>\n",
       "      <td>...</td>\n",
       "    </tr>\n",
       "    <tr>\n",
       "      <th>2388</th>\n",
       "      <td>[-0.00062115677, -0.05608756, -2.7583213, 0.11...</td>\n",
       "      <td>[0.218637, 0.09683992, -2.459394, -0.10137273,...</td>\n",
       "    </tr>\n",
       "    <tr>\n",
       "      <th>2389</th>\n",
       "      <td>[0.06004726, -0.18542612, -2.4058356, -0.11484...</td>\n",
       "      <td>[0.17255336, 0.08187974, -2.4888027, -0.125524...</td>\n",
       "    </tr>\n",
       "    <tr>\n",
       "      <th>2390</th>\n",
       "      <td>[0.043301605, -0.1414826, -2.351503, 0.0148666...</td>\n",
       "      <td>[-0.12428833, -0.18683632, -1.7294149, 0.08392...</td>\n",
       "    </tr>\n",
       "    <tr>\n",
       "      <th>2391</th>\n",
       "      <td>[-0.17238998, 0.09524493, -2.3212883, -0.10387...</td>\n",
       "      <td>[-0.004415309, -0.079842165, -2.7208378, 0.026...</td>\n",
       "    </tr>\n",
       "    <tr>\n",
       "      <th>2392</th>\n",
       "      <td>[0.072260454, 0.14132845, -2.0897114, 0.036270...</td>\n",
       "      <td>[0.115735434, -0.18137792, -2.2905576, 0.03780...</td>\n",
       "    </tr>\n",
       "  </tbody>\n",
       "</table>\n",
       "<p>2393 rows × 2 columns</p>\n",
       "</div>"
      ],
      "text/plain": [
       "                                               question   \n",
       "0     [-0.052625213, 0.079950415, -1.9313812, 0.0223...  \\\n",
       "1     [0.160093, 0.12114633, -1.9946089, 0.17719616,...   \n",
       "2     [-0.099915, 0.2153509, -2.388649, -0.21130906,...   \n",
       "3     [-0.099327825, 0.19049068, -2.3185666, -0.0299...   \n",
       "4     [0.002224515, 0.023029258, -2.0074282, -0.2613...   \n",
       "...                                                 ...   \n",
       "2388  [-0.00062115677, -0.05608756, -2.7583213, 0.11...   \n",
       "2389  [0.06004726, -0.18542612, -2.4058356, -0.11484...   \n",
       "2390  [0.043301605, -0.1414826, -2.351503, 0.0148666...   \n",
       "2391  [-0.17238998, 0.09524493, -2.3212883, -0.10387...   \n",
       "2392  [0.072260454, 0.14132845, -2.0897114, 0.036270...   \n",
       "\n",
       "                                                 answer  \n",
       "0     [0.04759143, 0.053199004, -1.951094, 0.0612557...  \n",
       "1     [-0.2702885, 0.019821702, -2.035978, -0.159718...  \n",
       "2     [0.00041904548, -0.05147257, -2.2782657, -0.15...  \n",
       "3     [-0.08595536, -0.054866087, -2.8274214, -0.116...  \n",
       "4     [0.66262746, -0.13506825, -2.440193, -0.435804...  \n",
       "...                                                 ...  \n",
       "2388  [0.218637, 0.09683992, -2.459394, -0.10137273,...  \n",
       "2389  [0.17255336, 0.08187974, -2.4888027, -0.125524...  \n",
       "2390  [-0.12428833, -0.18683632, -1.7294149, 0.08392...  \n",
       "2391  [-0.004415309, -0.079842165, -2.7208378, 0.026...  \n",
       "2392  [0.115735434, -0.18137792, -2.2905576, 0.03780...  \n",
       "\n",
       "[2393 rows x 2 columns]"
      ]
     },
     "execution_count": 24,
     "metadata": {},
     "output_type": "execute_result"
    }
   ],
   "source": [
    "df"
   ]
  },
  {
   "cell_type": "code",
   "execution_count": null,
   "metadata": {},
   "outputs": [],
   "source": []
  }
 ],
 "metadata": {
  "kernelspec": {
   "display_name": ".venv",
   "language": "python",
   "name": "python3"
  },
  "language_info": {
   "codemirror_mode": {
    "name": "ipython",
    "version": 3
   },
   "file_extension": ".py",
   "mimetype": "text/x-python",
   "name": "python",
   "nbconvert_exporter": "python",
   "pygments_lexer": "ipython3",
   "version": "3.10.6"
  },
  "orig_nbformat": 4
 },
 "nbformat": 4,
 "nbformat_minor": 2
}
