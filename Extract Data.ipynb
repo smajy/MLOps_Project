{
 "cells": [
  {
   "cell_type": "code",
   "execution_count": null,
   "metadata": {},
   "outputs": [],
   "source": [
    "import re\n",
    "import pandas as pd"
   ]
  },
  {
   "attachments": {},
   "cell_type": "markdown",
   "metadata": {},
   "source": [
    "# Makarem Book"
   ]
  },
  {
   "cell_type": "code",
   "execution_count": null,
   "metadata": {},
   "outputs": [],
   "source": [
    "makarem_book = open('makarem_book.htm', 'r', encoding='utf-8')\n",
    "makarem_book = makarem_book.read()\n",
    "start = re.search('<H3 class=content_h3>فصل اوّل: احكام تقليد</H3>',makarem_book).span()[0]\n",
    "end = re.search(' «پايان', makarem_book).span()[0]\n",
    "makarem_book = makarem_book[start:end]\n",
    "\n",
    "makarem_book = re.sub(r'<H3 class=content_h3>(.*?)</H3>', '', makarem_book)\n",
    "\n",
    "makarem_book = re.sub(r'<H4 class=content_h4>(.*?)</H4>', '', makarem_book)\n",
    "\n",
    "makarem_book = re.sub(r'<H5 class=content_h5>(.*?)</H5>', '', makarem_book)\n",
    "\n",
    "makarem_book = re.sub(r'استفتاءات جديد \\(مكارم\\)، ج \\d+، ص: \\d+', '' ,makarem_book)\n",
    "\n",
    "makarem_book = re.sub(r'شيرازي.* ج *\\d+، ص *: *\\d+', '' , makarem_book)\n",
    "\n",
    "makarem_book = re.sub(r'<P class=content_paragraph><SPAN class=content_text>', '', makarem_book)\n",
    "makarem_book = re.sub(r'</P>', '', makarem_book)\n",
    "\n",
    "makarem_book = re.sub(r'<SPAN .*>', '', makarem_book)\n",
    "makarem_book = re.sub(r'</SPAN>', '', makarem_book)\n",
    "\n",
    "makarem_book = re.sub(r'<DIV>', '', makarem_book)\n",
    "makarem_book = re.sub(r'</DIV>', '', makarem_book)\n",
    "\n",
    "makarem_book = re.sub(r'_+', '', makarem_book)\n",
    "\n",
    "makarem_book = re.sub('\\n+', '', makarem_book)\n",
    "\n",
    "makarem_book = re.sub('<.*سؤال', 'سؤال', makarem_book)"
   ]
  },
  {
   "cell_type": "code",
   "execution_count": null,
   "metadata": {},
   "outputs": [],
   "source": [
    "df_makarem = pd.DataFrame(columns=[\"question\", \"answer\"])\n",
    "\n",
    "matches = re.findall(r\"(سؤال \\d+-)(.+?)(جواب:)(.+?)(?=$|سؤال \\d+)\", makarem_book, re.DOTALL)\n",
    "\n",
    "# افزودن پرسش و پاسخ به دیتافریم\n",
    "for match in matches:\n",
    "    data = {\"question\": match[0] + match[1], \"answer\": match[2] + match[3]}\n",
    "    df_makarem = df_makarem.append(data, ignore_index=True)\n",
    "\n",
    "\n",
    "df_makarem['question'] = df_makarem['question'].replace('سؤال \\d+-', '', regex=True)\n",
    "df_makarem['answer'] = df_makarem['answer'].replace('جواب:', '', regex=True)\n",
    "\n",
    "df_makarem.to_csv('makarem.csv', encoding='utf-8', index=False)"
   ]
  },
  {
   "attachments": {},
   "cell_type": "markdown",
   "metadata": {},
   "source": [
    "# Banovan Ahkam"
   ]
  },
  {
   "cell_type": "code",
   "execution_count": null,
   "metadata": {},
   "outputs": [],
   "source": [
    "ahkame_banovan = open('resaleye-ahkame-banovan.htm', 'r', encoding='utf-8')\n",
    "ahkame_banovan = ahkame_banovan.read()\n",
    "\n",
    "start = re.search(r'<SPAN class=content_text>صفحه 20</SPAN></P>',ahkame_banovan).span()[1]\n",
    "ahkame_banovan = ahkame_banovan[start:]\n",
    "\n",
    "ahkame_banovan = re.sub(r'\\n+', '', ahkame_banovan)\n",
    "ahkame_banovan = re.sub(r'پاورقي(.*?)سؤال', 'سؤال', ahkame_banovan)\n",
    "ahkame_banovan = re.sub(r'صفحه \\d+', '', ahkame_banovan)\n",
    "ahkame_banovan = re.sub('<P class=content_paragraph>', '' ,ahkame_banovan)\n",
    "ahkame_banovan = re.sub('<SPAN class=content_text>', '' ,ahkame_banovan)\n",
    "ahkame_banovan = re.sub('<SPAN class=chapter>', '' ,ahkame_banovan)\n",
    "ahkame_banovan = re.sub('</SPAN>', '' ,ahkame_banovan)\n",
    "ahkame_banovan = re.sub('</P>', '' ,ahkame_banovan)\n",
    "ahkame_banovan = re.sub(r'<DIV>', '', ahkame_banovan)\n",
    "ahkame_banovan = re.sub(r'</DIV>', '', ahkame_banovan)\n",
    "ahkame_banovan = re.sub(r'<H2 class=content_h3>(.*?)</H2>', '', ahkame_banovan)"
   ]
  },
  {
   "cell_type": "code",
   "execution_count": null,
   "metadata": {},
   "outputs": [],
   "source": [
    "df_ahkame_banovan = pd.DataFrame(columns=[\"question\", \"answer\"])\n",
    "\n",
    "matches = re.findall(r\"(سؤال *\\d+)(.+?)(جواب *)(.+?)(?=$|سؤال \\d+)\", ahkame_banovan, re.DOTALL)\n",
    "\n",
    "# افزودن پرسش و پاسخ به دیتافریم\n",
    "for match in matches:\n",
    "    data = {\"question\": match[0] + match[1], \"answer\": match[2] + match[3]}\n",
    "    df_ahkame_banovan = df_ahkame_banovan.append(data, ignore_index=True)\n",
    "\n",
    "\n",
    "df_ahkame_banovan['question'] = df_ahkame_banovan['question'].replace('سؤال \\d+:', '', regex=True)\n",
    "df_ahkame_banovan['answer'] = df_ahkame_banovan['answer'].replace('جواب :', '', regex=True)\n",
    "\n",
    "df_ahkame_banovan.to_csv('ahkame_banovan.csv', encoding='utf-8', index=False)"
   ]
  },
  {
   "cell_type": "code",
   "execution_count": null,
   "metadata": {},
   "outputs": [],
   "source": [
    "ahkame_banovan = open('resaleye-ahkame-banovan.htm', 'r', encoding='utf-8')\n",
    "ahkame_banovan = ahkame_banovan.read()\n",
    "\n",
    "start = re.search(r'<SPAN class=content_text>صفحه 20</SPAN></P>',ahkame_banovan).span()[1]\n",
    "ahkame_banovan = ahkame_banovan[start:]\n",
    "\n",
    "ahkame_banovan = re.sub(r'\\n+', '', ahkame_banovan)\n",
    "ahkame_banovan = re.sub(r'پاورقي(.*?)سؤال', 'سؤال', ahkame_banovan)\n",
    "ahkame_banovan = re.sub(r'صفحه \\d+', '', ahkame_banovan)\n",
    "ahkame_banovan = re.sub('<P class=content_paragraph>', '' ,ahkame_banovan)\n",
    "ahkame_banovan = re.sub('<SPAN class=content_text>', '' ,ahkame_banovan)\n",
    "ahkame_banovan = re.sub('<SPAN class=chapter>', '' ,ahkame_banovan)\n",
    "ahkame_banovan = re.sub('</SPAN>', '' ,ahkame_banovan)\n",
    "ahkame_banovan = re.sub('</P>', '' ,ahkame_banovan)\n",
    "ahkame_banovan = re.sub(r'<DIV>', '', ahkame_banovan)\n",
    "ahkame_banovan = re.sub(r'</DIV>', '', ahkame_banovan)\n",
    "ahkame_banovan = re.sub(r'<H2 class=content_h3>(.*?)</H2>', '', ahkame_banovan)"
   ]
  }
 ],
 "metadata": {
  "language_info": {
   "name": "python"
  },
  "orig_nbformat": 4
 },
 "nbformat": 4,
 "nbformat_minor": 2
}
