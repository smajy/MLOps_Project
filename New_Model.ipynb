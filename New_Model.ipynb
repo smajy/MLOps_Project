{
  "cells": [
    {
      "cell_type": "code",
      "execution_count": null,
      "metadata": {
        "id": "V5tRfzpDc30N"
      },
      "outputs": [],
      "source": [
        "!pip install datasets transformers\n",
        "# !pip install accelerate -U"
      ]
    },
    {
      "cell_type": "code",
      "execution_count": 2,
      "metadata": {
        "id": "5AIhXvVwcnBf"
      },
      "outputs": [],
      "source": [
        "import pandas as pd\n",
        "from datasets import Dataset, DatasetDict"
      ]
    },
    {
      "cell_type": "code",
      "execution_count": 4,
      "metadata": {
        "id": "Za_hOR3ZQ2_w"
      },
      "outputs": [],
      "source": [
        "data = pd.read_csv('QA3.csv')"
      ]
    },
    {
      "cell_type": "code",
      "execution_count": 5,
      "metadata": {
        "colab": {
          "base_uri": "https://localhost:8080/",
          "height": 424
        },
        "id": "7UnGhEEERQ3Q",
        "outputId": "8e49ba8c-c64e-4503-882f-ff81af6385bb"
      },
      "outputs": [
        {
          "data": {
            "text/html": [
              "\n",
              "\n",
              "  <div id=\"df-9237df09-cee8-49b7-9c21-b121c661390c\">\n",
              "    <div class=\"colab-df-container\">\n",
              "      <div>\n",
              "<style scoped>\n",
              "    .dataframe tbody tr th:only-of-type {\n",
              "        vertical-align: middle;\n",
              "    }\n",
              "\n",
              "    .dataframe tbody tr th {\n",
              "        vertical-align: top;\n",
              "    }\n",
              "\n",
              "    .dataframe thead th {\n",
              "        text-align: right;\n",
              "    }\n",
              "</style>\n",
              "<table border=\"1\" class=\"dataframe\">\n",
              "  <thead>\n",
              "    <tr style=\"text-align: right;\">\n",
              "      <th></th>\n",
              "      <th>question</th>\n",
              "      <th>answer</th>\n",
              "      <th>context</th>\n",
              "    </tr>\n",
              "  </thead>\n",
              "  <tbody>\n",
              "    <tr>\n",
              "      <th>0</th>\n",
              "      <td>اگر فقیهی دارای علومی غیر از فقه و اصولباشد س...</td>\n",
              "      <td>دارا بودن علومی دیگر غیر از فقه و اصول سبب تر...</td>\n",
              "      <td>دارا بودن علومی دیگر غیر از فقه و اصول سبب تر...</td>\n",
              "    </tr>\n",
              "    <tr>\n",
              "      <th>1</th>\n",
              "      <td>آیا می‌توان از مجتهد مرده تقلید نمود؟</td>\n",
              "      <td>احتیاط ترک تقلید ابتدایی میت است اما بقای بر ...</td>\n",
              "      <td>در موارد ضرورت مانعی ندارد.\\n احتیاط ترک تقلی...</td>\n",
              "    </tr>\n",
              "    <tr>\n",
              "      <th>2</th>\n",
              "      <td>کسی که بدون اجازه مجتهد زنده به تقلید میت باق...</td>\n",
              "      <td>حال باید از مجتهد زنده در مسأله بقای بر تقلید...</td>\n",
              "      <td>حال باید از مجتهد زنده در مسأله بقای بر تقلید...</td>\n",
              "    </tr>\n",
              "    <tr>\n",
              "      <th>3</th>\n",
              "      <td>در چه مسائلی می‌توان به فتوای مجتهدی که از دن...</td>\n",
              "      <td>تنها در مسائلی می‌تواند باقی بماند که به آن ع...</td>\n",
              "      <td>تنها در مسائلی می‌تواند باقی بماند که به آن ع...</td>\n",
              "    </tr>\n",
              "    <tr>\n",
              "      <th>4</th>\n",
              "      <td>تفاوت بین فتوا و حکم از کجا سرچشمه می‌گیرد که...</td>\n",
              "      <td>به کتاب «أنوار الفقاهة» ما مراجعه نمایید.</td>\n",
              "      <td>در کتاب أنوار الفقاهة، در بحث ولایت فقیه، مفص...</td>\n",
              "    </tr>\n",
              "    <tr>\n",
              "      <th>...</th>\n",
              "      <td>...</td>\n",
              "      <td>...</td>\n",
              "      <td>...</td>\n",
              "    </tr>\n",
              "    <tr>\n",
              "      <th>2388</th>\n",
              "      <td>برخى از زنان و دختران اعتقاد زیادى به انواع ف...</td>\n",
              "      <td>فال قهوه و امثالآن از خرافات است و سزاوار نیس...</td>\n",
              "      <td>این گونه کارها در شأن زنان با شخصیت و با ایما...</td>\n",
              "    </tr>\n",
              "    <tr>\n",
              "      <th>2389</th>\n",
              "      <td>متأسفانه کم نیستند زنانى که به کوچکترین بهانه...</td>\n",
              "      <td>قهر کردن بطور کلى از نظر اسلام کار بسیار نامط...</td>\n",
              "      <td>قهر کردن بطور کلى از نظر اسلام کار بسیار نامط...</td>\n",
              "    </tr>\n",
              "    <tr>\n",
              "      <th>2390</th>\n",
              "      <td>بلند کردن ناخن براى خانمها چه حکمى دارد؟ اگر ...</td>\n",
              "      <td>بلند کردن ناخن در حد معقول اشکالى ندارد.</td>\n",
              "      <td>هرگاه ضرر خاصى نداشته باشد و عکسهاى موجب فساد...</td>\n",
              "    </tr>\n",
              "    <tr>\n",
              "      <th>2391</th>\n",
              "      <td>نظر شما در مورد ورزش بانوان چیست؟ کدام یک از ...</td>\n",
              "      <td>ورزش براى همه، و از جمله بانوان، کار خوبى است...</td>\n",
              "      <td>محمد بن سنان در بین علمای رجال محل اختلاف است...</td>\n",
              "    </tr>\n",
              "    <tr>\n",
              "      <th>2392</th>\n",
              "      <td>گاهى از اوقات به هنگام پختن غذاهاى گوشتى، علی...</td>\n",
              "      <td>جواب مثبت است، آیا لازم است که این موضوع را به...</td>\n",
              "      <td>جواب مثبت است، آیا لازم است که این موضوع را به...</td>\n",
              "    </tr>\n",
              "  </tbody>\n",
              "</table>\n",
              "<p>2393 rows × 3 columns</p>\n",
              "</div>\n",
              "      <button class=\"colab-df-convert\" onclick=\"convertToInteractive('df-9237df09-cee8-49b7-9c21-b121c661390c')\"\n",
              "              title=\"Convert this dataframe to an interactive table.\"\n",
              "              style=\"display:none;\">\n",
              "\n",
              "  <svg xmlns=\"http://www.w3.org/2000/svg\" height=\"24px\"viewBox=\"0 0 24 24\"\n",
              "       width=\"24px\">\n",
              "    <path d=\"M0 0h24v24H0V0z\" fill=\"none\"/>\n",
              "    <path d=\"M18.56 5.44l.94 2.06.94-2.06 2.06-.94-2.06-.94-.94-2.06-.94 2.06-2.06.94zm-11 1L8.5 8.5l.94-2.06 2.06-.94-2.06-.94L8.5 2.5l-.94 2.06-2.06.94zm10 10l.94 2.06.94-2.06 2.06-.94-2.06-.94-.94-2.06-.94 2.06-2.06.94z\"/><path d=\"M17.41 7.96l-1.37-1.37c-.4-.4-.92-.59-1.43-.59-.52 0-1.04.2-1.43.59L10.3 9.45l-7.72 7.72c-.78.78-.78 2.05 0 2.83L4 21.41c.39.39.9.59 1.41.59.51 0 1.02-.2 1.41-.59l7.78-7.78 2.81-2.81c.8-.78.8-2.07 0-2.86zM5.41 20L4 18.59l7.72-7.72 1.47 1.35L5.41 20z\"/>\n",
              "  </svg>\n",
              "      </button>\n",
              "\n",
              "\n",
              "\n",
              "    <div id=\"df-e381dc0e-9732-4763-9318-64bfd73714bc\">\n",
              "      <button class=\"colab-df-quickchart\" onclick=\"quickchart('df-e381dc0e-9732-4763-9318-64bfd73714bc')\"\n",
              "              title=\"Suggest charts.\"\n",
              "              style=\"display:none;\">\n",
              "\n",
              "<svg xmlns=\"http://www.w3.org/2000/svg\" height=\"24px\"viewBox=\"0 0 24 24\"\n",
              "     width=\"24px\">\n",
              "    <g>\n",
              "        <path d=\"M19 3H5c-1.1 0-2 .9-2 2v14c0 1.1.9 2 2 2h14c1.1 0 2-.9 2-2V5c0-1.1-.9-2-2-2zM9 17H7v-7h2v7zm4 0h-2V7h2v10zm4 0h-2v-4h2v4z\"/>\n",
              "    </g>\n",
              "</svg>\n",
              "      </button>\n",
              "    </div>\n",
              "\n",
              "<style>\n",
              "  .colab-df-quickchart {\n",
              "    background-color: #E8F0FE;\n",
              "    border: none;\n",
              "    border-radius: 50%;\n",
              "    cursor: pointer;\n",
              "    display: none;\n",
              "    fill: #1967D2;\n",
              "    height: 32px;\n",
              "    padding: 0 0 0 0;\n",
              "    width: 32px;\n",
              "  }\n",
              "\n",
              "  .colab-df-quickchart:hover {\n",
              "    background-color: #E2EBFA;\n",
              "    box-shadow: 0px 1px 2px rgba(60, 64, 67, 0.3), 0px 1px 3px 1px rgba(60, 64, 67, 0.15);\n",
              "    fill: #174EA6;\n",
              "  }\n",
              "\n",
              "  [theme=dark] .colab-df-quickchart {\n",
              "    background-color: #3B4455;\n",
              "    fill: #D2E3FC;\n",
              "  }\n",
              "\n",
              "  [theme=dark] .colab-df-quickchart:hover {\n",
              "    background-color: #434B5C;\n",
              "    box-shadow: 0px 1px 3px 1px rgba(0, 0, 0, 0.15);\n",
              "    filter: drop-shadow(0px 1px 2px rgba(0, 0, 0, 0.3));\n",
              "    fill: #FFFFFF;\n",
              "  }\n",
              "</style>\n",
              "\n",
              "    <script>\n",
              "      async function quickchart(key) {\n",
              "        const containerElement = document.querySelector('#' + key);\n",
              "        const charts = await google.colab.kernel.invokeFunction(\n",
              "            'suggestCharts', [key], {});\n",
              "      }\n",
              "    </script>\n",
              "\n",
              "      <script>\n",
              "\n",
              "function displayQuickchartButton(domScope) {\n",
              "  let quickchartButtonEl =\n",
              "    domScope.querySelector('#df-e381dc0e-9732-4763-9318-64bfd73714bc button.colab-df-quickchart');\n",
              "  quickchartButtonEl.style.display =\n",
              "    google.colab.kernel.accessAllowed ? 'block' : 'none';\n",
              "}\n",
              "\n",
              "        displayQuickchartButton(document);\n",
              "      </script>\n",
              "      <style>\n",
              "    .colab-df-container {\n",
              "      display:flex;\n",
              "      flex-wrap:wrap;\n",
              "      gap: 12px;\n",
              "    }\n",
              "\n",
              "    .colab-df-convert {\n",
              "      background-color: #E8F0FE;\n",
              "      border: none;\n",
              "      border-radius: 50%;\n",
              "      cursor: pointer;\n",
              "      display: none;\n",
              "      fill: #1967D2;\n",
              "      height: 32px;\n",
              "      padding: 0 0 0 0;\n",
              "      width: 32px;\n",
              "    }\n",
              "\n",
              "    .colab-df-convert:hover {\n",
              "      background-color: #E2EBFA;\n",
              "      box-shadow: 0px 1px 2px rgba(60, 64, 67, 0.3), 0px 1px 3px 1px rgba(60, 64, 67, 0.15);\n",
              "      fill: #174EA6;\n",
              "    }\n",
              "\n",
              "    [theme=dark] .colab-df-convert {\n",
              "      background-color: #3B4455;\n",
              "      fill: #D2E3FC;\n",
              "    }\n",
              "\n",
              "    [theme=dark] .colab-df-convert:hover {\n",
              "      background-color: #434B5C;\n",
              "      box-shadow: 0px 1px 3px 1px rgba(0, 0, 0, 0.15);\n",
              "      filter: drop-shadow(0px 1px 2px rgba(0, 0, 0, 0.3));\n",
              "      fill: #FFFFFF;\n",
              "    }\n",
              "  </style>\n",
              "\n",
              "      <script>\n",
              "        const buttonEl =\n",
              "          document.querySelector('#df-9237df09-cee8-49b7-9c21-b121c661390c button.colab-df-convert');\n",
              "        buttonEl.style.display =\n",
              "          google.colab.kernel.accessAllowed ? 'block' : 'none';\n",
              "\n",
              "        async function convertToInteractive(key) {\n",
              "          const element = document.querySelector('#df-9237df09-cee8-49b7-9c21-b121c661390c');\n",
              "          const dataTable =\n",
              "            await google.colab.kernel.invokeFunction('convertToInteractive',\n",
              "                                                     [key], {});\n",
              "          if (!dataTable) return;\n",
              "\n",
              "          const docLinkHtml = 'Like what you see? Visit the ' +\n",
              "            '<a target=\"_blank\" href=https://colab.research.google.com/notebooks/data_table.ipynb>data table notebook</a>'\n",
              "            + ' to learn more about interactive tables.';\n",
              "          element.innerHTML = '';\n",
              "          dataTable['output_type'] = 'display_data';\n",
              "          await google.colab.output.renderOutput(dataTable, element);\n",
              "          const docLink = document.createElement('div');\n",
              "          docLink.innerHTML = docLinkHtml;\n",
              "          element.appendChild(docLink);\n",
              "        }\n",
              "      </script>\n",
              "    </div>\n",
              "  </div>\n"
            ],
            "text/plain": [
              "                                               question  \\\n",
              "0      اگر فقیهی دارای علومی غیر از فقه و اصولباشد س...   \n",
              "1                 آیا می‌توان از مجتهد مرده تقلید نمود؟   \n",
              "2      کسی که بدون اجازه مجتهد زنده به تقلید میت باق...   \n",
              "3      در چه مسائلی می‌توان به فتوای مجتهدی که از دن...   \n",
              "4      تفاوت بین فتوا و حکم از کجا سرچشمه می‌گیرد که...   \n",
              "...                                                 ...   \n",
              "2388   برخى از زنان و دختران اعتقاد زیادى به انواع ف...   \n",
              "2389   متأسفانه کم نیستند زنانى که به کوچکترین بهانه...   \n",
              "2390   بلند کردن ناخن براى خانمها چه حکمى دارد؟ اگر ...   \n",
              "2391   نظر شما در مورد ورزش بانوان چیست؟ کدام یک از ...   \n",
              "2392   گاهى از اوقات به هنگام پختن غذاهاى گوشتى، علی...   \n",
              "\n",
              "                                                 answer  \\\n",
              "0      دارا بودن علومی دیگر غیر از فقه و اصول سبب تر...   \n",
              "1      احتیاط ترک تقلید ابتدایی میت است اما بقای بر ...   \n",
              "2      حال باید از مجتهد زنده در مسأله بقای بر تقلید...   \n",
              "3      تنها در مسائلی می‌تواند باقی بماند که به آن ع...   \n",
              "4             به کتاب «أنوار الفقاهة» ما مراجعه نمایید.   \n",
              "...                                                 ...   \n",
              "2388   فال قهوه و امثالآن از خرافات است و سزاوار نیس...   \n",
              "2389   قهر کردن بطور کلى از نظر اسلام کار بسیار نامط...   \n",
              "2390           بلند کردن ناخن در حد معقول اشکالى ندارد.   \n",
              "2391   ورزش براى همه، و از جمله بانوان، کار خوبى است...   \n",
              "2392  جواب مثبت است، آیا لازم است که این موضوع را به...   \n",
              "\n",
              "                                                context  \n",
              "0      دارا بودن علومی دیگر غیر از فقه و اصول سبب تر...  \n",
              "1      در موارد ضرورت مانعی ندارد.\\n احتیاط ترک تقلی...  \n",
              "2      حال باید از مجتهد زنده در مسأله بقای بر تقلید...  \n",
              "3      تنها در مسائلی می‌تواند باقی بماند که به آن ع...  \n",
              "4      در کتاب أنوار الفقاهة، در بحث ولایت فقیه، مفص...  \n",
              "...                                                 ...  \n",
              "2388   این گونه کارها در شأن زنان با شخصیت و با ایما...  \n",
              "2389   قهر کردن بطور کلى از نظر اسلام کار بسیار نامط...  \n",
              "2390   هرگاه ضرر خاصى نداشته باشد و عکسهاى موجب فساد...  \n",
              "2391   محمد بن سنان در بین علمای رجال محل اختلاف است...  \n",
              "2392  جواب مثبت است، آیا لازم است که این موضوع را به...  \n",
              "\n",
              "[2393 rows x 3 columns]"
            ]
          },
          "execution_count": 5,
          "metadata": {},
          "output_type": "execute_result"
        }
      ],
      "source": [
        "data"
      ]
    },
    {
      "cell_type": "code",
      "execution_count": 78,
      "metadata": {
        "colab": {
          "base_uri": "https://localhost:8080/"
        },
        "id": "TK6uZPCTcvep",
        "outputId": "ac3f75c6-a246-490b-d808-6a3eea178539"
      },
      "outputs": [
        {
          "name": "stdout",
          "output_type": "stream",
          "text": [
            "Train set size: 1770\n",
            "Valid set size: 221\n",
            "Test set size: 222\n"
          ]
        }
      ],
      "source": [
        "from sklearn.model_selection import train_test_split\n",
        "# Replace this with your data loading code\n",
        "data = pd.read_csv('QA3.csv')\n",
        "data['context'] = data['context'].apply(lambda x: 'جواب سوال عبارت است از \\n' + x)\n",
        "data['start'] = data.apply(lambda x: x['context'].find(x['answer']), axis=1)\n",
        "data['id'] = data.reset_index(drop=True).index\n",
        "# # Filter rows based on a minimum length\n",
        "max_length = 1000\n",
        "data = data[data['context'].apply(lambda x: len(x)) <= max_length]\n",
        "# Split the data into training and testing sets\n",
        "train_data, test_data = train_test_split(data, test_size=0.2, random_state=42)\n",
        "# Split the data into training and testing sets\n",
        "valid_data, test_data = train_test_split(test_data, test_size=0.5, random_state=42)\n",
        "\n",
        "# Print the sizes of the train and test sets\n",
        "print(\"Train set size:\", len(train_data))\n",
        "print(\"Valid set size:\", len(valid_data))\n",
        "print(\"Test set size:\", len(test_data))"
      ]
    },
    {
      "cell_type": "code",
      "execution_count": 79,
      "metadata": {
        "colab": {
          "base_uri": "https://localhost:8080/",
          "height": 424
        },
        "id": "wdL6mHk9kX5M",
        "outputId": "b1fbbd73-21a4-4638-fd67-d6900717df02"
      },
      "outputs": [
        {
          "data": {
            "text/html": [
              "\n",
              "\n",
              "  <div id=\"df-2e06dfdf-76c7-41e0-b428-d93451676c5d\">\n",
              "    <div class=\"colab-df-container\">\n",
              "      <div>\n",
              "<style scoped>\n",
              "    .dataframe tbody tr th:only-of-type {\n",
              "        vertical-align: middle;\n",
              "    }\n",
              "\n",
              "    .dataframe tbody tr th {\n",
              "        vertical-align: top;\n",
              "    }\n",
              "\n",
              "    .dataframe thead th {\n",
              "        text-align: right;\n",
              "    }\n",
              "</style>\n",
              "<table border=\"1\" class=\"dataframe\">\n",
              "  <thead>\n",
              "    <tr style=\"text-align: right;\">\n",
              "      <th></th>\n",
              "      <th>question</th>\n",
              "      <th>answer</th>\n",
              "      <th>context</th>\n",
              "      <th>start</th>\n",
              "      <th>id</th>\n",
              "    </tr>\n",
              "  </thead>\n",
              "  <tbody>\n",
              "    <tr>\n",
              "      <th>0</th>\n",
              "      <td>اگر فقیهی دارای علومی غیر از فقه و اصولباشد س...</td>\n",
              "      <td>دارا بودن علومی دیگر غیر از فقه و اصول سبب تر...</td>\n",
              "      <td>جواب سوال عبارت است از \\n دارا بودن علومی دیگر...</td>\n",
              "      <td>24</td>\n",
              "      <td>0</td>\n",
              "    </tr>\n",
              "    <tr>\n",
              "      <th>1</th>\n",
              "      <td>آیا می‌توان از مجتهد مرده تقلید نمود؟</td>\n",
              "      <td>احتیاط ترک تقلید ابتدایی میت است اما بقای بر ...</td>\n",
              "      <td>جواب سوال عبارت است از \\n در موارد ضرورت مانعی...</td>\n",
              "      <td>53</td>\n",
              "      <td>1</td>\n",
              "    </tr>\n",
              "    <tr>\n",
              "      <th>2</th>\n",
              "      <td>کسی که بدون اجازه مجتهد زنده به تقلید میت باق...</td>\n",
              "      <td>حال باید از مجتهد زنده در مسأله بقای بر تقلید...</td>\n",
              "      <td>جواب سوال عبارت است از \\n حال باید از مجتهد زن...</td>\n",
              "      <td>24</td>\n",
              "      <td>2</td>\n",
              "    </tr>\n",
              "    <tr>\n",
              "      <th>3</th>\n",
              "      <td>در چه مسائلی می‌توان به فتوای مجتهدی که از دن...</td>\n",
              "      <td>تنها در مسائلی می‌تواند باقی بماند که به آن ع...</td>\n",
              "      <td>جواب سوال عبارت است از \\n تنها در مسائلی می‌تو...</td>\n",
              "      <td>24</td>\n",
              "      <td>3</td>\n",
              "    </tr>\n",
              "    <tr>\n",
              "      <th>4</th>\n",
              "      <td>تفاوت بین فتوا و حکم از کجا سرچشمه می‌گیرد که...</td>\n",
              "      <td>به کتاب «أنوار الفقاهة» ما مراجعه نمایید.</td>\n",
              "      <td>جواب سوال عبارت است از \\n در کتاب أنوار الفقاه...</td>\n",
              "      <td>83</td>\n",
              "      <td>4</td>\n",
              "    </tr>\n",
              "    <tr>\n",
              "      <th>...</th>\n",
              "      <td>...</td>\n",
              "      <td>...</td>\n",
              "      <td>...</td>\n",
              "      <td>...</td>\n",
              "      <td>...</td>\n",
              "    </tr>\n",
              "    <tr>\n",
              "      <th>2388</th>\n",
              "      <td>برخى از زنان و دختران اعتقاد زیادى به انواع ف...</td>\n",
              "      <td>فال قهوه و امثالآن از خرافات است و سزاوار نیس...</td>\n",
              "      <td>جواب سوال عبارت است از \\n این گونه کارها در شأ...</td>\n",
              "      <td>120</td>\n",
              "      <td>2388</td>\n",
              "    </tr>\n",
              "    <tr>\n",
              "      <th>2389</th>\n",
              "      <td>متأسفانه کم نیستند زنانى که به کوچکترین بهانه...</td>\n",
              "      <td>قهر کردن بطور کلى از نظر اسلام کار بسیار نامط...</td>\n",
              "      <td>جواب سوال عبارت است از \\n قهر کردن بطور کلى از...</td>\n",
              "      <td>24</td>\n",
              "      <td>2389</td>\n",
              "    </tr>\n",
              "    <tr>\n",
              "      <th>2390</th>\n",
              "      <td>بلند کردن ناخن براى خانمها چه حکمى دارد؟ اگر ...</td>\n",
              "      <td>بلند کردن ناخن در حد معقول اشکالى ندارد.</td>\n",
              "      <td>جواب سوال عبارت است از \\n هرگاه ضرر خاصى نداشت...</td>\n",
              "      <td>148</td>\n",
              "      <td>2390</td>\n",
              "    </tr>\n",
              "    <tr>\n",
              "      <th>2391</th>\n",
              "      <td>نظر شما در مورد ورزش بانوان چیست؟ کدام یک از ...</td>\n",
              "      <td>ورزش براى همه، و از جمله بانوان، کار خوبى است...</td>\n",
              "      <td>جواب سوال عبارت است از \\n محمد بن سنان در بین ...</td>\n",
              "      <td>283</td>\n",
              "      <td>2391</td>\n",
              "    </tr>\n",
              "    <tr>\n",
              "      <th>2392</th>\n",
              "      <td>گاهى از اوقات به هنگام پختن غذاهاى گوشتى، علی...</td>\n",
              "      <td>جواب مثبت است، آیا لازم است که این موضوع را به...</td>\n",
              "      <td>جواب سوال عبارت است از \\nجواب مثبت است، آیا لا...</td>\n",
              "      <td>24</td>\n",
              "      <td>2392</td>\n",
              "    </tr>\n",
              "  </tbody>\n",
              "</table>\n",
              "<p>2213 rows × 5 columns</p>\n",
              "</div>\n",
              "      <button class=\"colab-df-convert\" onclick=\"convertToInteractive('df-2e06dfdf-76c7-41e0-b428-d93451676c5d')\"\n",
              "              title=\"Convert this dataframe to an interactive table.\"\n",
              "              style=\"display:none;\">\n",
              "\n",
              "  <svg xmlns=\"http://www.w3.org/2000/svg\" height=\"24px\"viewBox=\"0 0 24 24\"\n",
              "       width=\"24px\">\n",
              "    <path d=\"M0 0h24v24H0V0z\" fill=\"none\"/>\n",
              "    <path d=\"M18.56 5.44l.94 2.06.94-2.06 2.06-.94-2.06-.94-.94-2.06-.94 2.06-2.06.94zm-11 1L8.5 8.5l.94-2.06 2.06-.94-2.06-.94L8.5 2.5l-.94 2.06-2.06.94zm10 10l.94 2.06.94-2.06 2.06-.94-2.06-.94-.94-2.06-.94 2.06-2.06.94z\"/><path d=\"M17.41 7.96l-1.37-1.37c-.4-.4-.92-.59-1.43-.59-.52 0-1.04.2-1.43.59L10.3 9.45l-7.72 7.72c-.78.78-.78 2.05 0 2.83L4 21.41c.39.39.9.59 1.41.59.51 0 1.02-.2 1.41-.59l7.78-7.78 2.81-2.81c.8-.78.8-2.07 0-2.86zM5.41 20L4 18.59l7.72-7.72 1.47 1.35L5.41 20z\"/>\n",
              "  </svg>\n",
              "      </button>\n",
              "\n",
              "\n",
              "\n",
              "    <div id=\"df-f11db1db-9bcc-4308-b1e8-54d5cf481a69\">\n",
              "      <button class=\"colab-df-quickchart\" onclick=\"quickchart('df-f11db1db-9bcc-4308-b1e8-54d5cf481a69')\"\n",
              "              title=\"Suggest charts.\"\n",
              "              style=\"display:none;\">\n",
              "\n",
              "<svg xmlns=\"http://www.w3.org/2000/svg\" height=\"24px\"viewBox=\"0 0 24 24\"\n",
              "     width=\"24px\">\n",
              "    <g>\n",
              "        <path d=\"M19 3H5c-1.1 0-2 .9-2 2v14c0 1.1.9 2 2 2h14c1.1 0 2-.9 2-2V5c0-1.1-.9-2-2-2zM9 17H7v-7h2v7zm4 0h-2V7h2v10zm4 0h-2v-4h2v4z\"/>\n",
              "    </g>\n",
              "</svg>\n",
              "      </button>\n",
              "    </div>\n",
              "\n",
              "<style>\n",
              "  .colab-df-quickchart {\n",
              "    background-color: #E8F0FE;\n",
              "    border: none;\n",
              "    border-radius: 50%;\n",
              "    cursor: pointer;\n",
              "    display: none;\n",
              "    fill: #1967D2;\n",
              "    height: 32px;\n",
              "    padding: 0 0 0 0;\n",
              "    width: 32px;\n",
              "  }\n",
              "\n",
              "  .colab-df-quickchart:hover {\n",
              "    background-color: #E2EBFA;\n",
              "    box-shadow: 0px 1px 2px rgba(60, 64, 67, 0.3), 0px 1px 3px 1px rgba(60, 64, 67, 0.15);\n",
              "    fill: #174EA6;\n",
              "  }\n",
              "\n",
              "  [theme=dark] .colab-df-quickchart {\n",
              "    background-color: #3B4455;\n",
              "    fill: #D2E3FC;\n",
              "  }\n",
              "\n",
              "  [theme=dark] .colab-df-quickchart:hover {\n",
              "    background-color: #434B5C;\n",
              "    box-shadow: 0px 1px 3px 1px rgba(0, 0, 0, 0.15);\n",
              "    filter: drop-shadow(0px 1px 2px rgba(0, 0, 0, 0.3));\n",
              "    fill: #FFFFFF;\n",
              "  }\n",
              "</style>\n",
              "\n",
              "    <script>\n",
              "      async function quickchart(key) {\n",
              "        const containerElement = document.querySelector('#' + key);\n",
              "        const charts = await google.colab.kernel.invokeFunction(\n",
              "            'suggestCharts', [key], {});\n",
              "      }\n",
              "    </script>\n",
              "\n",
              "      <script>\n",
              "\n",
              "function displayQuickchartButton(domScope) {\n",
              "  let quickchartButtonEl =\n",
              "    domScope.querySelector('#df-f11db1db-9bcc-4308-b1e8-54d5cf481a69 button.colab-df-quickchart');\n",
              "  quickchartButtonEl.style.display =\n",
              "    google.colab.kernel.accessAllowed ? 'block' : 'none';\n",
              "}\n",
              "\n",
              "        displayQuickchartButton(document);\n",
              "      </script>\n",
              "      <style>\n",
              "    .colab-df-container {\n",
              "      display:flex;\n",
              "      flex-wrap:wrap;\n",
              "      gap: 12px;\n",
              "    }\n",
              "\n",
              "    .colab-df-convert {\n",
              "      background-color: #E8F0FE;\n",
              "      border: none;\n",
              "      border-radius: 50%;\n",
              "      cursor: pointer;\n",
              "      display: none;\n",
              "      fill: #1967D2;\n",
              "      height: 32px;\n",
              "      padding: 0 0 0 0;\n",
              "      width: 32px;\n",
              "    }\n",
              "\n",
              "    .colab-df-convert:hover {\n",
              "      background-color: #E2EBFA;\n",
              "      box-shadow: 0px 1px 2px rgba(60, 64, 67, 0.3), 0px 1px 3px 1px rgba(60, 64, 67, 0.15);\n",
              "      fill: #174EA6;\n",
              "    }\n",
              "\n",
              "    [theme=dark] .colab-df-convert {\n",
              "      background-color: #3B4455;\n",
              "      fill: #D2E3FC;\n",
              "    }\n",
              "\n",
              "    [theme=dark] .colab-df-convert:hover {\n",
              "      background-color: #434B5C;\n",
              "      box-shadow: 0px 1px 3px 1px rgba(0, 0, 0, 0.15);\n",
              "      filter: drop-shadow(0px 1px 2px rgba(0, 0, 0, 0.3));\n",
              "      fill: #FFFFFF;\n",
              "    }\n",
              "  </style>\n",
              "\n",
              "      <script>\n",
              "        const buttonEl =\n",
              "          document.querySelector('#df-2e06dfdf-76c7-41e0-b428-d93451676c5d button.colab-df-convert');\n",
              "        buttonEl.style.display =\n",
              "          google.colab.kernel.accessAllowed ? 'block' : 'none';\n",
              "\n",
              "        async function convertToInteractive(key) {\n",
              "          const element = document.querySelector('#df-2e06dfdf-76c7-41e0-b428-d93451676c5d');\n",
              "          const dataTable =\n",
              "            await google.colab.kernel.invokeFunction('convertToInteractive',\n",
              "                                                     [key], {});\n",
              "          if (!dataTable) return;\n",
              "\n",
              "          const docLinkHtml = 'Like what you see? Visit the ' +\n",
              "            '<a target=\"_blank\" href=https://colab.research.google.com/notebooks/data_table.ipynb>data table notebook</a>'\n",
              "            + ' to learn more about interactive tables.';\n",
              "          element.innerHTML = '';\n",
              "          dataTable['output_type'] = 'display_data';\n",
              "          await google.colab.output.renderOutput(dataTable, element);\n",
              "          const docLink = document.createElement('div');\n",
              "          docLink.innerHTML = docLinkHtml;\n",
              "          element.appendChild(docLink);\n",
              "        }\n",
              "      </script>\n",
              "    </div>\n",
              "  </div>\n"
            ],
            "text/plain": [
              "                                               question  \\\n",
              "0      اگر فقیهی دارای علومی غیر از فقه و اصولباشد س...   \n",
              "1                 آیا می‌توان از مجتهد مرده تقلید نمود؟   \n",
              "2      کسی که بدون اجازه مجتهد زنده به تقلید میت باق...   \n",
              "3      در چه مسائلی می‌توان به فتوای مجتهدی که از دن...   \n",
              "4      تفاوت بین فتوا و حکم از کجا سرچشمه می‌گیرد که...   \n",
              "...                                                 ...   \n",
              "2388   برخى از زنان و دختران اعتقاد زیادى به انواع ف...   \n",
              "2389   متأسفانه کم نیستند زنانى که به کوچکترین بهانه...   \n",
              "2390   بلند کردن ناخن براى خانمها چه حکمى دارد؟ اگر ...   \n",
              "2391   نظر شما در مورد ورزش بانوان چیست؟ کدام یک از ...   \n",
              "2392   گاهى از اوقات به هنگام پختن غذاهاى گوشتى، علی...   \n",
              "\n",
              "                                                 answer  \\\n",
              "0      دارا بودن علومی دیگر غیر از فقه و اصول سبب تر...   \n",
              "1      احتیاط ترک تقلید ابتدایی میت است اما بقای بر ...   \n",
              "2      حال باید از مجتهد زنده در مسأله بقای بر تقلید...   \n",
              "3      تنها در مسائلی می‌تواند باقی بماند که به آن ع...   \n",
              "4             به کتاب «أنوار الفقاهة» ما مراجعه نمایید.   \n",
              "...                                                 ...   \n",
              "2388   فال قهوه و امثالآن از خرافات است و سزاوار نیس...   \n",
              "2389   قهر کردن بطور کلى از نظر اسلام کار بسیار نامط...   \n",
              "2390           بلند کردن ناخن در حد معقول اشکالى ندارد.   \n",
              "2391   ورزش براى همه، و از جمله بانوان، کار خوبى است...   \n",
              "2392  جواب مثبت است، آیا لازم است که این موضوع را به...   \n",
              "\n",
              "                                                context  start    id  \n",
              "0     جواب سوال عبارت است از \\n دارا بودن علومی دیگر...     24     0  \n",
              "1     جواب سوال عبارت است از \\n در موارد ضرورت مانعی...     53     1  \n",
              "2     جواب سوال عبارت است از \\n حال باید از مجتهد زن...     24     2  \n",
              "3     جواب سوال عبارت است از \\n تنها در مسائلی می‌تو...     24     3  \n",
              "4     جواب سوال عبارت است از \\n در کتاب أنوار الفقاه...     83     4  \n",
              "...                                                 ...    ...   ...  \n",
              "2388  جواب سوال عبارت است از \\n این گونه کارها در شأ...    120  2388  \n",
              "2389  جواب سوال عبارت است از \\n قهر کردن بطور کلى از...     24  2389  \n",
              "2390  جواب سوال عبارت است از \\n هرگاه ضرر خاصى نداشت...    148  2390  \n",
              "2391  جواب سوال عبارت است از \\n محمد بن سنان در بین ...    283  2391  \n",
              "2392  جواب سوال عبارت است از \\nجواب مثبت است، آیا لا...     24  2392  \n",
              "\n",
              "[2213 rows x 5 columns]"
            ]
          },
          "execution_count": 79,
          "metadata": {},
          "output_type": "execute_result"
        }
      ],
      "source": [
        "data"
      ]
    },
    {
      "cell_type": "code",
      "execution_count": 80,
      "metadata": {
        "id": "Wv_vz14bdZTu"
      },
      "outputs": [],
      "source": [
        "dataset = DatasetDict()\n",
        "dataset['train'] = Dataset.from_pandas(train_data)\n",
        "dataset['eval'] = Dataset.from_pandas(valid_data)\n",
        "dataset['test'] = Dataset.from_pandas(test_data)"
      ]
    },
    {
      "cell_type": "code",
      "execution_count": 43,
      "metadata": {
        "colab": {
          "base_uri": "https://localhost:8080/"
        },
        "id": "ziEnXZUJdfmF",
        "outputId": "b2ff6823-4cfb-4b6d-b513-4614cdf403ad"
      },
      "outputs": [
        {
          "data": {
            "text/plain": [
              "{'question': ' اگر زن به خاطر انجام مستحبات زیاد، دچار خستگى فراوان شود، بطورى که مرد نتواند تمتعات لازم را از او ببرد، آیا مرد حق دارد او را از انجام چنین مستحباتى نهى کند؟ آیا اطاعت از شوهر در اینجا لازم است؟',\n",
              " 'answer': ' مرد نمى تواند او را نهى کند; مگر این که بطور کلى تمتع از بین برود و در این صورت چون مزاحم حق شوهر است زن بدون اجازه او نمى تواند اقدام کند. مسأله ۵۷۲: اگر زن در همه کارهایى که در مسائل قبل (به شرحى که گذشت) گفته شد، از شوهر اطاعت نکند گناهکار است و حق غذا و لباس و منزل و همخوابى او از بین مى رود; ولى مهر او از بین نمى رود. <H۶ class=content_h۶>کارهاى منزل</H۶>مسأله ۵۷۳: زن وظیفه ندارد خدمت خانه را انجام دهد و غذا تهیه کند و نظافت و مانند آن را عهده دار شود; مگر به میلخود. و اگر مرد او را مجبور بر این کارها نماید، زن مى تواند حق الزحمه خود را در برابر این کارها از او بگیرد.',\n",
              " 'context': 'جواب سوال عبارت است از \\n مرد نمی\\u200cتواند او را نهی کند مگر به طور کلی تمتع از بین برود و در این صورت چون مزاحم حق شوهر است زن بدون اجازه او نمی\\u200cتواند اقدام کند.\\n مرد نمى تواند او را نهى کند; مگر این که بطور کلى تمتع از بین برود و در این صورت چون مزاحم حق شوهر است زن بدون اجازه او نمى تواند اقدام کند. مسأله ۵۷۲: اگر زن در همه کارهایى که در مسائل قبل (به شرحى که گذشت) گفته شد، از شوهر اطاعت نکند گناهکار است و حق غذا و لباس و منزل و همخوابى او از بین مى رود; ولى مهر او از بین نمى رود. <H۶ class=content_h۶>کارهاى منزل</H۶>مسأله ۵۷۳: زن وظیفه ندارد خدمت خانه را انجام دهد و غذا تهیه کند و نظافت و مانند آن را عهده دار شود; مگر به میلخود. و اگر مرد او را مجبور بر این کارها نماید، زن مى تواند حق الزحمه خود را در برابر این کارها از او بگیرد.\\n اطاعت زن از شوهر مربوط به حقوق زناشوئى و بیرون رفتن از منزل است، در کارهاى دیگر اطاعت بر او واجب نیست، هر چند بهتر است که زن و مرد در تمام مسائل با هم تفاهم داشته باشند.',\n",
              " 'start': 159,\n",
              " '__index_level_0__': 2136}"
            ]
          },
          "execution_count": 43,
          "metadata": {},
          "output_type": "execute_result"
        }
      ],
      "source": [
        "dataset[\"train\"][0]"
      ]
    },
    {
      "cell_type": "code",
      "execution_count": 9,
      "metadata": {
        "id": "0yA4uYr7dfjW"
      },
      "outputs": [],
      "source": [
        "from datasets import ClassLabel, Sequence\n",
        "import random\n",
        "import pandas as pd\n",
        "from IPython.display import display, HTML\n",
        "\n",
        "def show_random_elements(dataset, num_examples=10):\n",
        "    assert num_examples <= len(dataset), \"Can't pick more elements than there are in the dataset.\"\n",
        "    picks = []\n",
        "    for _ in range(num_examples):\n",
        "        pick = random.randint(0, len(dataset)-1)\n",
        "        while pick in picks:\n",
        "            pick = random.randint(0, len(dataset)-1)\n",
        "        picks.append(pick)\n",
        "\n",
        "    df = pd.DataFrame(dataset[picks])\n",
        "    for column, typ in dataset.features.items():\n",
        "        if isinstance(typ, ClassLabel):\n",
        "            df[column] = df[column].transform(lambda i: typ.names[i])\n",
        "        elif isinstance(typ, Sequence) and isinstance(typ.feature, ClassLabel):\n",
        "            df[column] = df[column].transform(lambda x: [typ.feature.names[i] for i in x])\n",
        "    display(HTML(df.to_html()))"
      ]
    },
    {
      "cell_type": "code",
      "execution_count": 10,
      "metadata": {
        "colab": {
          "base_uri": "https://localhost:8080/",
          "height": 1000
        },
        "id": "VOuWLgmNfGCN",
        "outputId": "89558b9e-cce1-4d13-f2b4-03dcf8b4bf46"
      },
      "outputs": [
        {
          "data": {
            "text/html": [
              "<table border=\"1\" class=\"dataframe\">\n",
              "  <thead>\n",
              "    <tr style=\"text-align: right;\">\n",
              "      <th></th>\n",
              "      <th>question</th>\n",
              "      <th>answer</th>\n",
              "      <th>context</th>\n",
              "      <th>start</th>\n",
              "      <th>__index_level_0__</th>\n",
              "    </tr>\n",
              "  </thead>\n",
              "  <tbody>\n",
              "    <tr>\n",
              "      <th>0</th>\n",
              "      <td>کسی قرآنی را به دیگری فروخته بعد از مدتی آمده و می‌گوید آن نسخه خطی بوده و من ضرر کرده‌ام، آیا بر خریدار لازم است آن را برگرداند؟</td>\n",
              "      <td>اگر مشمول یکی از خیارات مانند غبن، خیار عیب و یا غیر آن بوده باشد می‌تواند، در غیر این صورت حق فسخ ندارد.</td>\n",
              "      <td>جواب سوال عبارت است از \\n اگر مشمول یکی از خیارات مانند غبن، خیار عیب و یا غیر آن بوده باشد می‌تواند، در غیر این صورت حق فسخ ندارد.\\n اجاره دادن آن خانه به بیشتر از آنچه که اجاره کرده‌اید اشکال دارد مگر این که وسایلی بر آن بیفزایید، مانند اضافه کردن فرش و کمد و امثال آن.\\n اگر با قصد قربت بوده باشد مشکل است.</td>\n",
              "      <td>24</td>\n",
              "      <td>586</td>\n",
              "    </tr>\n",
              "    <tr>\n",
              "      <th>1</th>\n",
              "      <td>شخصی در زمان حیات خویش، حقوق تنها وارث خود را که خواهرش بوده با پرداختن مبلغ ۱۴۰۰۰ تومان به عنوان مصالحه از او سلب نموده و بیان داشته که مشار الیها هیچ گونه حقی نسبت به ارث برادر خود بعد از وفات وی ندارد و جمیع مایملک را نیز به همسر خویش صلح نموده است و این صلح و مصالحه دو سال قبل از فوت مشار الیه و در حالت مرضی بوده است که منجر به وفات وی شده است با توجه به اجمالی که گذشت، آیا این صلح و مصالحه صحیح است و مانع ارث می‌شود؟</td>\n",
              "      <td>کسی نمی‌تواند دیگری را از ارث محروم کند تنها می‌تواند نسبت به یک سوم مال خودش وصیت کند که در هر مصرفی که می‌خواهد صرف کنند و در مورد بخشش اموال به همسرش اگر در حال حیات و صحت و سلامت صورت گیرد و تحویل داده شود ملک او خواهد شد ولی اگر تحویل نداده، اموال او به صورت ارث در میان همه بستگان کما فرض الله تقسیم می‌شود و اگر در حال بیماری منجر به مرگ باشد احتیاط آن است که تنها ثلث آن، به شخص مزبور داده شود و در بقیه، با ورثه مصالحه شود.</td>\n",
              "      <td>جواب سوال عبارت است از \\n خالی از اشکال نیست.\\n کسی نمی‌تواند دیگری را از ارث محروم کند تنها می‌تواند نسبت به یک سوم مال خودش وصیت کند که در هر مصرفی که می‌خواهد صرف کنند و در مورد بخشش اموال به همسرش اگر در حال حیات و صحت و سلامت صورت گیرد و تحویل داده شود ملک او خواهد شد ولی اگر تحویل نداده، اموال او به صورت ارث در میان همه بستگان کما فرض الله تقسیم می‌شود و اگر در حال بیماری منجر به مرگ باشد احتیاط آن است که تنها ثلث آن، به شخص مزبور داده شود و در بقیه، با ورثه مصالحه شود.\\n هرگاه معامله به صورت ظاهر، جدی و اختیاری بوده نافذ است مگر آن که خلاف آن ثابت شود و چون در مرض موت بوده، احتیاط آن است که فقط در یک سوم آن عمل شود و در بقیه، با ورثه مصالحه گردد.</td>\n",
              "      <td>45</td>\n",
              "      <td>1096</td>\n",
              "    </tr>\n",
              "    <tr>\n",
              "      <th>2</th>\n",
              "      <td>طى پرسشنامه اى که بین دانشجویان این دانشگاه توزیع گشت، سؤالاتى در مورد نماز جماعت دانشگاه مطرح شد، از پاسخ هاى جمع آورى شده معلوم شد که اهمیت نماز جماعت و شرکت در آن در مساجد، براى خانم‌ها محل سؤال مى باشد. مثلا بعضى از خانم‌ها بر این باورند که: «مستحب است زنان نماز خود را در خانه بجاى آورند» یا «نماز جماعت آن قدر که براى آقایان ثواب دارد، براى خانم‌ها ثواب ندارد» این قبیل تفکرات مانع حضور برخى از خانمها در نماز جماعت شده است. لطفا نظر مبارک را پیرامون مطالب فوق بیان فرمائید.</td>\n",
              "      <td>در شرایط فعلى براى زنان نیز مستحب است که نماز خود را در مسجد وبا جماعت بخوانند و مطمئنا ثواب زیادى دارد&lt;H۳ class=content_h۳&gt;نماز جمعه&lt;/H۳&gt;مسأله ۳۷۵: نماز جمعه تنها توسط مردان منعقد مى شود; ولى زنان هم مى توانند در آن شرکت کنند.</td>\n",
              "      <td>جواب سوال عبارت است از \\n نمازشان اشکال دارد.\\n در شرایط فعلى براى زنان نیز مستحب است که نماز خود را در مسجد وبا جماعت بخوانند و مطمئنا ثواب زیادى دارد&lt;H۳ class=content_h۳&gt;نماز جمعه&lt;/H۳&gt;مسأله ۳۷۵: نماز جمعه تنها توسط مردان منعقد مى شود; ولى زنان هم مى توانند در آن شرکت کنند.\\n احتیاط آن است که تا رکوع رکعت اول مهلت دهد اگر نیاید حق دارد.</td>\n",
              "      <td>45</td>\n",
              "      <td>1984</td>\n",
              "    </tr>\n",
              "    <tr>\n",
              "      <th>3</th>\n",
              "      <td>آیا در موارد زیر قبل از ولوج روحمی توان سقط درمانی انجام داد: الف) بیماریهایی که می‌دانیم مسلما جنین پس از تولد خواهد مرد. ب) بیماریهای ژنتیکی. ج) ناهنجاریهای نوزادان مثل آنانسفالی.</td>\n",
              "      <td>سقط جنین در این موارد اشکال دارد به خصوص اینکه پیش بینی‌های فوق جنبه قطعی ندارد.</td>\n",
              "      <td>جواب سوال عبارت است از \\n سقط جنین در این موارد اشکال دارد به خصوص اینکه پیش بینی‌های فوق جنبه قطعی ندارد.\\n سقط جنین در هیچ مورد جایز نیست; مگر در موارد ضرورت.\\n جایز نیست.</td>\n",
              "      <td>24</td>\n",
              "      <td>1484</td>\n",
              "    </tr>\n",
              "    <tr>\n",
              "      <th>4</th>\n",
              "      <td>اشیایی که می‌خواهند به مسجد بدهند (وقف یا تملیک کنند) در صورتی که قدیمی باشد یا مناسب نباشد و استعمال آن فعلا معمول نیست یا مستهلک شده باشد، آیا می‌توان اینگونه اشیا را قبول ننمود و رد کرد؟</td>\n",
              "      <td>قبول هدایا برای مسجد واجب نیست، ولی اگر وقف یا تملیک شده باشد باید پذیرفت و مطابق وظیفه رفتار کرد.</td>\n",
              "      <td>جواب سوال عبارت است از \\n قبول هدایا برای مسجد واجب نیست، ولی اگر وقف یا تملیک شده باشد باید پذیرفت و مطابق وظیفه رفتار کرد.\\n اگر فعلا قابل استفاده نیست، می‌توان آن را تبدیل به ظروف مشابه کرد و اگر مسجد به ظروف نیاز ندارد در سایر حوایج مسجد مصرف گردد.\\n احتیاط واجب این است که با آن معامله وقف کنیم.</td>\n",
              "      <td>24</td>\n",
              "      <td>1028</td>\n",
              "    </tr>\n",
              "    <tr>\n",
              "      <th>5</th>\n",
              "      <td>شخصی نذر کرده که سالی ده روز روزه بگیرد ولی حالا به علت پیری توان آن را ندارد، وظیفه‌اش چیست؟</td>\n",
              "      <td>نذر او نسبت به این سنین صحیح نیست.</td>\n",
              "      <td>جواب سوال عبارت است از \\n نذر او نسبت به این سنین صحیح نیست.\\n حج او تبدیل به افراد شده است و باید ادامه دهد و بعد از اتمام حج، عمره مفرده بجا آورد.\\n به مقداری که می‌تواند و قدرت دارد به نذر خود عمل کند.</td>\n",
              "      <td>24</td>\n",
              "      <td>996</td>\n",
              "    </tr>\n",
              "    <tr>\n",
              "      <th>6</th>\n",
              "      <td>در صورت لزوم، مشاهده و لمس موهای خانم بیمار، جهت معاینه توسط پزشک مرد چه صورتی دارد؟</td>\n",
              "      <td>در صورتی که لمس یا مشاهده برای تشخیص بیماری ضرورت داشته باشد جایز است.</td>\n",
              "      <td>جواب سوال عبارت است از \\n در فرض مسأله برای مقاصد پزشکی مانعی ندارد.\\n در صورتی که لمس یا مشاهده برای تشخیص بیماری ضرورت داشته باشد جایز است.\\n طبق روایات متواتره، مستحب است. مگر برای اشخاصی که حجامت برای آنها ضرری داشته باشد.</td>\n",
              "      <td>68</td>\n",
              "      <td>1424</td>\n",
              "    </tr>\n",
              "    <tr>\n",
              "      <th>7</th>\n",
              "      <td>آیا استفاده از «i u d»، که اثر آن جلوگیرى از لانه گزینى نطفه بسته شده است، جواز شرعى دارد؟</td>\n",
              "      <td>هر گاه موجب لمس و نظر حرام نشود مانعى ندارد; مگر این که ضرورتفردى یا اجتماعى ایجاب کند. صفحه۲۲۴</td>\n",
              "      <td>جواب سوال عبارت است از \\n هرگاه تنها نطفه باشد بیست مثقال شرعی طلا (۲۰ دینار) و اگر به صورت خون بسته شده باشد چهل مثقال (۴۰ دینار) و اگر مضغه باشد شصت مثقال (۶۰ دینار) و اگر به صورت استخوان باشد بدون گوشت هشتاد مثقال (۸۰ دینار) و اگر جنین کامل باشد و هنوز روح و حرکت نداشته باشد صد مثقال طلا (۱۰۰ دینار) و اگر روح در آن دمیده شده باشد هزار مثقال (۱۰۰۰ دینار) در مذکر و پانصد مثقال (۵۰۰ دینار) در مؤنث است (منظور از مثقال شرعی هیجده نخود است که سه چهارم مثقال معمولی است).\\n هرگاه موجب لمس و نظر حرام نشود مانعی ندارد، مگر این که ضرورت فردی یا اجتماعی ایجاب کند.\\n هر گاه موجب لمس و نظر حرام نشود مانعى ندارد; مگر این که ضرورتفردى یا اجتماعى ایجاب کند. صفحه۲۲۴</td>\n",
              "      <td>560</td>\n",
              "      <td>2306</td>\n",
              "    </tr>\n",
              "    <tr>\n",
              "      <th>8</th>\n",
              "      <td>زنى به سبب آتش سوزى در منزل شوهر، در بیمارستان بسترى و سپس فوت مى کند، آیا هزینه بیمارستان او بر عهده شوهر است؟</td>\n",
              "      <td>احتیاط واجب آن است که شوهر هزینه درمان او را بدهد.</td>\n",
              "      <td>جواب سوال عبارت است از \\n احتیاط واجب آن است که شوهر هزینه درمان او را بدهد.\\n فرش هنگامى که آماده فروختن شد جزء درآمد آن سال محسوب مى شود و خمس آن بر عهده کسى است که مالک آن فرش و درآمد آن است.\\n هر گاه شوهر در زمان مرگ هیچ فرزندى نداشته، یک چهارماموال او (غیر از زمین) به همسرش مى رسد و بقیه متعلق به ورثه دیگر است. مسأله ۷۷۳: زن از تمام اموال منقول شوهر ارث مى برد، ولى از زمین و قیمت آن ارث نمى برد، خواه زمین خانه باشد یا باغ، یا زمین زراعتى و مانند آن، و نیز از خود هوایى ساختمان ارث نمى برد، مثل بنا و درخت، اما باید هوایى را قیمت کنند و از قیمت آن، سهم ارث او را بدهند.</td>\n",
              "      <td>24</td>\n",
              "      <td>2088</td>\n",
              "    </tr>\n",
              "    <tr>\n",
              "      <th>9</th>\n",
              "      <td>کسی که ادرار و مدفوع او غیر ارادی است با توجه به اینکه هر لحظه امکان دارد از او ادرار یا مدفوع خارج گردد و اطراف عورتین و لباس او اکثر اوقات نجس است حتی اگر عوض کند مجددا نجس می‌شود چگونه نماز بخواند؟</td>\n",
              "      <td>با همان حال نماز بخواند و در مورد وضو گرفتن مطابق دستوری که در رساله توضیح المسائل مسأله ۳۲۹ داده‌ایم عمل کند.</td>\n",
              "      <td>جواب سوال عبارت است از \\n با همان حال نماز بخواند و در مورد وضو گرفتن مطابق دستوری که در رساله توضیح المسائل مسأله ۳۲۹ داده‌ایم عمل کند.\\n کسی که بول یا غایط پی درپی از او خارج می‌شود باید بعد از هر وضو فورا مشغول نماز شود و برای بجا آوردن نماز احتیاط و سجده و تشهد فراموشاستفتاءاتجدید (مکارم)، ج ۱، ص: ۳۷شده، وضو گرفتن دیگر لازم نیست به شرط اینکه میان نماز و این کارها فاصله‌ای نیندازد و در حال نماز حمل کیسه آلوده با خود، نماز را باطل نمی‌کند.\\n دلیلی بر نجاست جفت نیست (همان طور که در تعلیقه عروه نیز نوشته‌ایم) بنابراین اگر آلوده به خون نباشد یا شک داشته باشیم پاک است.</td>\n",
              "      <td>24</td>\n",
              "      <td>124</td>\n",
              "    </tr>\n",
              "  </tbody>\n",
              "</table>"
            ],
            "text/plain": [
              "<IPython.core.display.HTML object>"
            ]
          },
          "metadata": {},
          "output_type": "display_data"
        }
      ],
      "source": [
        "show_random_elements(dataset[\"train\"])"
      ]
    },
    {
      "cell_type": "code",
      "execution_count": null,
      "metadata": {
        "id": "KYt6J4fGWK-5"
      },
      "outputs": [],
      "source": [
        "# data = pd.read_csv('QA2.csv')"
      ]
    },
    {
      "cell_type": "code",
      "execution_count": 23,
      "metadata": {
        "colab": {
          "base_uri": "https://localhost:8080/"
        },
        "id": "PWouXtJcWLlQ",
        "outputId": "43ffe3cf-6c9e-41b6-b4a3-e72d4c863c3a"
      },
      "outputs": [
        {
          "data": {
            "text/plain": [
              "2393"
            ]
          },
          "execution_count": 23,
          "metadata": {},
          "output_type": "execute_result"
        }
      ],
      "source": [
        "len(data)"
      ]
    },
    {
      "cell_type": "code",
      "execution_count": 24,
      "metadata": {
        "colab": {
          "base_uri": "https://localhost:8080/"
        },
        "id": "rI15U4ZbAYwW",
        "outputId": "75dd3723-8de1-413d-df92-20c2325b822f"
      },
      "outputs": [
        {
          "data": {
            "text/plain": [
              "2229"
            ]
          },
          "execution_count": 24,
          "metadata": {},
          "output_type": "execute_result"
        }
      ],
      "source": [
        "# # Filter rows based on a minimum length\n",
        "max_length = 1000\n",
        "filtered_df = data[data['context'].apply(lambda x: len(x)) <= max_length]\n",
        "len(filtered_df)"
      ]
    },
    {
      "cell_type": "markdown",
      "metadata": {
        "id": "yFuyHrmzs--g"
      },
      "source": [
        "# Fine-tuning the model"
      ]
    },
    {
      "cell_type": "code",
      "execution_count": 11,
      "metadata": {
        "id": "KaJGBWW5TlPj"
      },
      "outputs": [],
      "source": [
        "from datasets import load_dataset\n",
        "from transformers import AutoTokenizer, AutoModelForQuestionAnswering\n",
        "from transformers import TrainingArguments, Trainer"
      ]
    },
    {
      "cell_type": "code",
      "execution_count": 44,
      "metadata": {
        "id": "dr27S4weTlNK"
      },
      "outputs": [],
      "source": [
        "model_checkpoint = \"HooshvareLab/bert-fa-base-uncased\"\n",
        "max_length = 512 # The maximum length of a feature (question and context)\n",
        "doc_stride = 256 # The authorized overlap between two part of the context when splitting it is needed.\n",
        "batch_size = 8\n",
        "lr = 3e-5\n",
        "epoch = 3"
      ]
    },
    {
      "cell_type": "code",
      "execution_count": 45,
      "metadata": {
        "colab": {
          "base_uri": "https://localhost:8080/"
        },
        "id": "KKFHzDiDTlKo",
        "outputId": "3168c16b-174c-45f9-b667-c9ffffd6f849"
      },
      "outputs": [
        {
          "data": {
            "text/plain": [
              "{'question': ' اگر زن به خاطر انجام مستحبات زیاد، دچار خستگى فراوان شود، بطورى که مرد نتواند تمتعات لازم را از او ببرد، آیا مرد حق دارد او را از انجام چنین مستحباتى نهى کند؟ آیا اطاعت از شوهر در اینجا لازم است؟',\n",
              " 'answer': ' مرد نمى تواند او را نهى کند; مگر این که بطور کلى تمتع از بین برود و در این صورت چون مزاحم حق شوهر است زن بدون اجازه او نمى تواند اقدام کند. مسأله ۵۷۲: اگر زن در همه کارهایى که در مسائل قبل (به شرحى که گذشت) گفته شد، از شوهر اطاعت نکند گناهکار است و حق غذا و لباس و منزل و همخوابى او از بین مى رود; ولى مهر او از بین نمى رود. <H۶ class=content_h۶>کارهاى منزل</H۶>مسأله ۵۷۳: زن وظیفه ندارد خدمت خانه را انجام دهد و غذا تهیه کند و نظافت و مانند آن را عهده دار شود; مگر به میلخود. و اگر مرد او را مجبور بر این کارها نماید، زن مى تواند حق الزحمه خود را در برابر این کارها از او بگیرد.',\n",
              " 'context': 'جواب سوال عبارت است از \\n مرد نمی\\u200cتواند او را نهی کند مگر به طور کلی تمتع از بین برود و در این صورت چون مزاحم حق شوهر است زن بدون اجازه او نمی\\u200cتواند اقدام کند.\\n مرد نمى تواند او را نهى کند; مگر این که بطور کلى تمتع از بین برود و در این صورت چون مزاحم حق شوهر است زن بدون اجازه او نمى تواند اقدام کند. مسأله ۵۷۲: اگر زن در همه کارهایى که در مسائل قبل (به شرحى که گذشت) گفته شد، از شوهر اطاعت نکند گناهکار است و حق غذا و لباس و منزل و همخوابى او از بین مى رود; ولى مهر او از بین نمى رود. <H۶ class=content_h۶>کارهاى منزل</H۶>مسأله ۵۷۳: زن وظیفه ندارد خدمت خانه را انجام دهد و غذا تهیه کند و نظافت و مانند آن را عهده دار شود; مگر به میلخود. و اگر مرد او را مجبور بر این کارها نماید، زن مى تواند حق الزحمه خود را در برابر این کارها از او بگیرد.\\n اطاعت زن از شوهر مربوط به حقوق زناشوئى و بیرون رفتن از منزل است، در کارهاى دیگر اطاعت بر او واجب نیست، هر چند بهتر است که زن و مرد در تمام مسائل با هم تفاهم داشته باشند.',\n",
              " 'start': 159,\n",
              " '__index_level_0__': 2136}"
            ]
          },
          "execution_count": 45,
          "metadata": {},
          "output_type": "execute_result"
        }
      ],
      "source": [
        "dataset['train'][0]"
      ]
    },
    {
      "cell_type": "code",
      "execution_count": 46,
      "metadata": {
        "id": "X_-g6pEGTlIP"
      },
      "outputs": [],
      "source": [
        "tokenizer = AutoTokenizer.from_pretrained(model_checkpoint)"
      ]
    },
    {
      "cell_type": "code",
      "execution_count": 51,
      "metadata": {
        "id": "MDP3XI6CT9Yt"
      },
      "outputs": [],
      "source": [
        "def prepare_train_features(examples):\n",
        "    tokenized_examples = tokenizer(\n",
        "        examples[\"question\"],\n",
        "        examples[\"context\"],\n",
        "        truncation=\"longest_first\",\n",
        "        max_length=max_length,\n",
        "        stride=doc_stride,\n",
        "        return_overflowing_tokens=True,\n",
        "        return_offsets_mapping=True,\n",
        "        add_special_tokens=True)\n",
        "\n",
        "    sample_mapping = tokenized_examples.pop(\"overflow_to_sample_mapping\")\n",
        "    offset_mapping = tokenized_examples.pop(\"offset_mapping\")\n",
        "    tokenized_examples[\"start_positions\"] = []\n",
        "    tokenized_examples[\"end_positions\"] = []\n",
        "    for i, offsets in enumerate(offset_mapping):\n",
        "        # We will label impossible answers with the index of the CLS token.\n",
        "        input_ids = tokenized_examples[\"input_ids\"][i]\n",
        "        cls_index = input_ids.index(tokenizer.cls_token_id)\n",
        "        # Grab the sequence corresponding to that example (to know what is the context and what is the question).\n",
        "        sequence_ids = tokenized_examples.sequence_ids(i)\n",
        "        # One example can give several spans, this is the index of the example containing this span of text.\n",
        "        sample_index = sample_mapping[i]\n",
        "        answers = examples[\"answer\"][sample_index]\n",
        "        # If no answers are given, set the cls_index as answer.\n",
        "        if examples[\"start\"][sample_index] == -1:\n",
        "            tokenized_examples[\"start_positions\"].append(cls_index)\n",
        "            tokenized_examples[\"end_positions\"].append(cls_index)\n",
        "        else:\n",
        "            # Start/end character index of the answer in the text.\n",
        "            start_char =  examples[\"start\"][sample_index]\n",
        "            end_char = start_char + len(answers)\n",
        "            # Start token index of the current span in the text.\n",
        "            token_start_index = 0\n",
        "            while sequence_ids[token_start_index] != 1:\n",
        "                token_start_index += 1\n",
        "            # End token index of the current span in the text.\n",
        "            token_end_index = len(input_ids) - 1\n",
        "            while sequence_ids[token_end_index] != 1:\n",
        "                token_end_index -= 1\n",
        "            # Detect if the answer is out of the span (in which case this feature is labeled with the CLS index).\n",
        "            if not (offsets[token_start_index][0] <= start_char and offsets[token_end_index][1] >= end_char):\n",
        "                tokenized_examples[\"start_positions\"].append(cls_index)\n",
        "                tokenized_examples[\"end_positions\"].append(cls_index)\n",
        "            else:\n",
        "                # Otherwise move the token_start_index and token_end_index to the two ends of the answer.\n",
        "                # Note: we could go after the last offset if the answer is the last word (edge case).\n",
        "                while token_start_index < len(offsets) and offsets[token_start_index][0] <= start_char:\n",
        "                    token_start_index += 1\n",
        "                tokenized_examples[\"start_positions\"].append(token_start_index - 1)\n",
        "                while offsets[token_end_index][1] >= end_char:\n",
        "                    token_end_index -= 1\n",
        "                tokenized_examples[\"end_positions\"].append(token_end_index + 1)\n",
        "\n",
        "    return tokenized_examples\n",
        "\n"
      ]
    },
    {
      "cell_type": "code",
      "execution_count": 52,
      "metadata": {
        "colab": {
          "base_uri": "https://localhost:8080/",
          "height": 113,
          "referenced_widgets": [
            "10702b97db924c9ab1b9ad059e1ef938",
            "71b00addf6fb4442bd35aab7f6dd4807",
            "b78370b160e3469e92bdc76758255fe7",
            "27c970577cec47d9a5c73e4fc6ab39fa",
            "fc65a8939ee04b25a21d714e57adf10a",
            "3a5a576758524a7fa92985aa12066b4f",
            "5bbee9470af441b4b8d1103caffd3d3e",
            "49da74efdbd74f7794288ffb9490ac9a",
            "0211d6c4fd4142aea8cd59ee4197effa",
            "87290a3479614e149efa0a78fc859428",
            "cbe17375ea1041fba697fd19094fffbc",
            "de70f1365c784bcebb7b7d76adfbfcb5",
            "e0aa4abf688e4311a9c7a77ceb6fff32",
            "ffd3056c826e4850b52f7d125d10fde7",
            "8b772d2209684204a7df81fba9d1256d",
            "734dc0aeb760433d8b52cd5a90e7095d",
            "1ef2f9eb32e341f2ae4183485ca72e0c",
            "b6876dbbc7ec4db786bee4e8fe266a44",
            "44b4149fd95d46be97ad2738bc429ba5",
            "913f3b1f044642b59736782d00456241",
            "76dc9b3d429c43a5ad9bc9742bc4ce2c",
            "3c39dc85be3644a38e13c19e8e2534ce",
            "3b4ac6309c544a5a90daf27bb161ab2b",
            "b67f3666ae8a4f28ad441e8e9b01b97b",
            "e44296d4f9464288aa6e88ce034aa4ff",
            "129bf825df984863b466dfb49f38360f",
            "2b06daa47eef49c7b9bbe2142d48cc5f",
            "309b1ae259b84c8b80d453b5ca116651",
            "ebcaa0217c224530a88e554ffbbea504",
            "6affb5a86fa345a38c6147a545ff9885",
            "53dba3829ed1452fae3f0f1ead3c99af",
            "e769038e6ed948358f4aa794fa791a89",
            "d595b581614a4ed196f148b2cbb0bfc0"
          ]
        },
        "id": "yZK56wS5T_uP",
        "outputId": "dedcf342-17cf-4424-ea35-d20eab38b971"
      },
      "outputs": [
        {
          "data": {
            "application/vnd.jupyter.widget-view+json": {
              "model_id": "10702b97db924c9ab1b9ad059e1ef938",
              "version_major": 2,
              "version_minor": 0
            },
            "text/plain": [
              "Map:   0%|          | 0/1770 [00:00<?, ? examples/s]"
            ]
          },
          "metadata": {},
          "output_type": "display_data"
        },
        {
          "data": {
            "application/vnd.jupyter.widget-view+json": {
              "model_id": "de70f1365c784bcebb7b7d76adfbfcb5",
              "version_major": 2,
              "version_minor": 0
            },
            "text/plain": [
              "Map:   0%|          | 0/221 [00:00<?, ? examples/s]"
            ]
          },
          "metadata": {},
          "output_type": "display_data"
        },
        {
          "data": {
            "application/vnd.jupyter.widget-view+json": {
              "model_id": "3b4ac6309c544a5a90daf27bb161ab2b",
              "version_major": 2,
              "version_minor": 0
            },
            "text/plain": [
              "Map:   0%|          | 0/222 [00:00<?, ? examples/s]"
            ]
          },
          "metadata": {},
          "output_type": "display_data"
        }
      ],
      "source": [
        "# the datasets library does cashing itself, batched is multitreading for fast-tokenizer\n",
        "tokenized_ds = dataset.map(prepare_train_features, batched=True, remove_columns=dataset[\"train\"].column_names)"
      ]
    },
    {
      "cell_type": "code",
      "execution_count": 53,
      "metadata": {
        "colab": {
          "base_uri": "https://localhost:8080/"
        },
        "id": "qwEH4FuCUCXc",
        "outputId": "7e384de9-47e0-4c4c-966a-faa6375de76b"
      },
      "outputs": [
        {
          "name": "stderr",
          "output_type": "stream",
          "text": [
            "Some weights of BertForQuestionAnswering were not initialized from the model checkpoint at HooshvareLab/bert-fa-base-uncased and are newly initialized: ['qa_outputs.weight', 'qa_outputs.bias']\n",
            "You should probably TRAIN this model on a down-stream task to be able to use it for predictions and inference.\n"
          ]
        }
      ],
      "source": [
        "model = AutoModelForQuestionAnswering.from_pretrained(model_checkpoint)"
      ]
    },
    {
      "cell_type": "code",
      "execution_count": 54,
      "metadata": {
        "id": "uf01ZelgUl46"
      },
      "outputs": [],
      "source": [
        "args = TrainingArguments(\n",
        "    f\"result\",\n",
        "    evaluation_strategy = \"epoch\",\n",
        "    learning_rate=lr,\n",
        "    per_device_train_batch_size=batch_size,\n",
        "    per_device_eval_batch_size=batch_size,\n",
        "    num_train_epochs=epoch,\n",
        "    weight_decay=0.0001\n",
        ")"
      ]
    },
    {
      "cell_type": "code",
      "execution_count": 55,
      "metadata": {
        "id": "Bj2D0pCWUoDo"
      },
      "outputs": [],
      "source": [
        "trainer = Trainer(\n",
        "    model=model,\n",
        "    args=args,\n",
        "    train_dataset=tokenized_ds['train'],\n",
        "    eval_dataset=tokenized_ds['eval'],\n",
        "    tokenizer=tokenizer)"
      ]
    },
    {
      "cell_type": "code",
      "execution_count": 56,
      "metadata": {
        "colab": {
          "base_uri": "https://localhost:8080/",
          "height": 276
        },
        "id": "MXfMrlZ_Uqjj",
        "outputId": "5dbe6b47-c6ae-4e8f-94ab-2e92e4772665"
      },
      "outputs": [
        {
          "name": "stderr",
          "output_type": "stream",
          "text": [
            "/usr/local/lib/python3.10/dist-packages/transformers/optimization.py:411: FutureWarning: This implementation of AdamW is deprecated and will be removed in a future version. Use the PyTorch implementation torch.optim.AdamW instead, or set `no_deprecation_warning=True` to disable this warning\n",
            "  warnings.warn(\n",
            "You're using a BertTokenizerFast tokenizer. Please note that with a fast tokenizer, using the `__call__` method is faster than using a method to encode the text followed by a call to the `pad` method to get a padded encoding.\n"
          ]
        },
        {
          "data": {
            "text/html": [
              "\n",
              "    <div>\n",
              "      \n",
              "      <progress value='666' max='666' style='width:300px; height:20px; vertical-align: middle;'></progress>\n",
              "      [666/666 05:14, Epoch 3/3]\n",
              "    </div>\n",
              "    <table border=\"1\" class=\"dataframe\">\n",
              "  <thead>\n",
              " <tr style=\"text-align: left;\">\n",
              "      <th>Epoch</th>\n",
              "      <th>Training Loss</th>\n",
              "      <th>Validation Loss</th>\n",
              "    </tr>\n",
              "  </thead>\n",
              "  <tbody>\n",
              "    <tr>\n",
              "      <td>1</td>\n",
              "      <td>No log</td>\n",
              "      <td>1.119594</td>\n",
              "    </tr>\n",
              "    <tr>\n",
              "      <td>2</td>\n",
              "      <td>No log</td>\n",
              "      <td>1.096828</td>\n",
              "    </tr>\n",
              "    <tr>\n",
              "      <td>3</td>\n",
              "      <td>1.007100</td>\n",
              "      <td>1.471056</td>\n",
              "    </tr>\n",
              "  </tbody>\n",
              "</table><p>"
            ],
            "text/plain": [
              "<IPython.core.display.HTML object>"
            ]
          },
          "metadata": {},
          "output_type": "display_data"
        },
        {
          "data": {
            "text/plain": [
              "TrainOutput(global_step=666, training_loss=0.8487876972278675, metrics={'train_runtime': 314.7952, 'train_samples_per_second': 16.916, 'train_steps_per_second': 2.116, 'total_flos': 746396737342524.0, 'train_loss': 0.8487876972278675, 'epoch': 3.0})"
            ]
          },
          "execution_count": 56,
          "metadata": {},
          "output_type": "execute_result"
        }
      ],
      "source": [
        "# start training\n",
        "trainer.train()"
      ]
    },
    {
      "cell_type": "code",
      "execution_count": 58,
      "metadata": {
        "id": "au8hEFeYUru2"
      },
      "outputs": [],
      "source": [
        "trainer.save_model(\"trained-model\")"
      ]
    },
    {
      "cell_type": "code",
      "execution_count": 60,
      "metadata": {
        "id": "j8hRTwXnhnkp"
      },
      "outputs": [],
      "source": [
        "!cp -r ./trained-model ./drive/MyDrive"
      ]
    },
    {
      "cell_type": "code",
      "execution_count": null,
      "metadata": {
        "id": "7xkaQMK6h-vt"
      },
      "outputs": [],
      "source": []
    },
    {
      "cell_type": "markdown",
      "metadata": {
        "id": "7JeFYUSFidX8"
      },
      "source": [
        "# Evalution"
      ]
    },
    {
      "cell_type": "code",
      "execution_count": 61,
      "metadata": {
        "colab": {
          "base_uri": "https://localhost:8080/"
        },
        "id": "XejHU8sUie5J",
        "outputId": "1aa7c21b-e9ee-43a2-c3c4-e202f27eea32"
      },
      "outputs": [
        {
          "data": {
            "text/plain": [
              "odict_keys(['loss', 'start_logits', 'end_logits'])"
            ]
          },
          "execution_count": 61,
          "metadata": {},
          "output_type": "execute_result"
        }
      ],
      "source": [
        "import torch\n",
        "\n",
        "for batch in trainer.get_eval_dataloader():\n",
        "    break\n",
        "batch = {k: v.to(trainer.args.device) for k, v in batch.items()}\n",
        "with torch.no_grad():\n",
        "    output = trainer.model(**batch)\n",
        "output.keys()"
      ]
    },
    {
      "cell_type": "code",
      "execution_count": 62,
      "metadata": {
        "colab": {
          "base_uri": "https://localhost:8080/"
        },
        "id": "9qaVyI8aig3D",
        "outputId": "a3d704fe-52be-46ef-92fa-90d4bb2fbf3f"
      },
      "outputs": [
        {
          "data": {
            "text/plain": [
              "(torch.Size([8, 214]), torch.Size([8, 214]))"
            ]
          },
          "execution_count": 62,
          "metadata": {},
          "output_type": "execute_result"
        }
      ],
      "source": [
        "output.start_logits.shape, output.end_logits.shape"
      ]
    },
    {
      "cell_type": "code",
      "execution_count": 63,
      "metadata": {
        "colab": {
          "base_uri": "https://localhost:8080/"
        },
        "id": "_Z-oEoDEii1s",
        "outputId": "6450ab37-f779-4027-f2e5-19cab44e40d4"
      },
      "outputs": [
        {
          "data": {
            "text/plain": [
              "(tensor([ 46,  35,  76,  81,  81,  18,  20, 121], device='cuda:0'),\n",
              " tensor([ 88, 117,  91, 104, 110,  84,  23, 142], device='cuda:0'))"
            ]
          },
          "execution_count": 63,
          "metadata": {},
          "output_type": "execute_result"
        }
      ],
      "source": [
        "output.start_logits.argmax(dim=-1), output.end_logits.argmax(dim=-1)"
      ]
    },
    {
      "cell_type": "code",
      "execution_count": 64,
      "metadata": {
        "id": "xSr-9kCFinFp"
      },
      "outputs": [],
      "source": [
        "n_best_size = 20"
      ]
    },
    {
      "cell_type": "code",
      "execution_count": 65,
      "metadata": {
        "id": "XD22V8yhioc2"
      },
      "outputs": [],
      "source": [
        "import numpy as np\n",
        "\n",
        "start_logits = output.start_logits[0].cpu().numpy()\n",
        "end_logits = output.end_logits[0].cpu().numpy()\n",
        "# Gather the indices the best start/end logits:\n",
        "start_indexes = np.argsort(start_logits)[-1 : -n_best_size - 1 : -1].tolist()\n",
        "end_indexes = np.argsort(end_logits)[-1 : -n_best_size - 1 : -1].tolist()\n",
        "valid_answers = []\n",
        "for start_index in start_indexes:\n",
        "    for end_index in end_indexes:\n",
        "        if start_index <= end_index: # We need to refine that test to check the answer is inside the context\n",
        "            valid_answers.append(\n",
        "                {\n",
        "                    \"score\": start_logits[start_index] + end_logits[end_index],\n",
        "                    \"text\": \"\" # We need to find a way to get back the original substring corresponding to the answer in the context\n",
        "                }\n",
        "            )"
      ]
    },
    {
      "cell_type": "code",
      "execution_count": 70,
      "metadata": {
        "id": "JZr3tiBnipvL"
      },
      "outputs": [],
      "source": [
        "def prepare_validation_features(examples):\n",
        "    # Some of the questions have lots of whitespace on the left, which is not useful and will make the\n",
        "    # truncation of the context fail (the tokenized question will take a lots of space). So we remove that\n",
        "    # left whitespace\n",
        "    examples[\"question\"] = [q.lstrip() for q in examples[\"question\"]]\n",
        "\n",
        "    # Tokenize our examples with truncation and maybe padding, but keep the overflows using a stride. This results\n",
        "    # in one example possible giving several features when a context is long, each of those features having a\n",
        "    # context that overlaps a bit the context of the previous feature.\n",
        "    tokenized_examples = tokenizer(\n",
        "        examples[\"question\"],\n",
        "        examples[\"context\"],\n",
        "        truncation=\"longest_first\",\n",
        "        max_length=max_length,\n",
        "        stride=doc_stride,\n",
        "        return_overflowing_tokens=True,\n",
        "        return_offsets_mapping=True,\n",
        "        add_special_tokens=True\n",
        "    )\n",
        "\n",
        "    # Since one example might give us several features if it has a long context, we need a map from a feature to\n",
        "    # its corresponding example. This key gives us just that.\n",
        "    sample_mapping = tokenized_examples.pop(\"overflow_to_sample_mapping\")\n",
        "\n",
        "    # We keep the example_id that gave us this feature and we will store the offset mappings.\n",
        "    tokenized_examples[\"example_id\"] = []\n",
        "\n",
        "    for i in range(len(tokenized_examples[\"input_ids\"])):\n",
        "        # Grab the sequence corresponding to that example (to know what is the context and what is the question).\n",
        "        sequence_ids = tokenized_examples.sequence_ids(i)\n",
        "        context_index = 1\n",
        "\n",
        "        # One example can give several spans, this is the index of the example containing this span of text.\n",
        "        sample_index = sample_mapping[i]\n",
        "        tokenized_examples[\"example_id\"].append(examples[\"id\"][sample_index])\n",
        "\n",
        "        # Set to None the offset_mapping that are not part of the context so it's easy to determine if a token\n",
        "        # position is part of the context or not.\n",
        "        tokenized_examples[\"offset_mapping\"][i] = [\n",
        "            (o if sequence_ids[k] == context_index else None)\n",
        "            for k, o in enumerate(tokenized_examples[\"offset_mapping\"][i])\n",
        "        ]\n",
        "\n",
        "    return tokenized_examples"
      ]
    },
    {
      "cell_type": "code",
      "execution_count": 73,
      "metadata": {
        "colab": {
          "base_uri": "https://localhost:8080/"
        },
        "id": "u4DN62lvju1T",
        "outputId": "7137b7b2-a95d-4ce5-83b9-95ee8cd735f2"
      },
      "outputs": [
        {
          "data": {
            "text/plain": [
              "Dataset({\n",
              "    features: ['question', 'answer', 'context', 'start', '__index_level_0__'],\n",
              "    num_rows: 222\n",
              "})"
            ]
          },
          "execution_count": 73,
          "metadata": {},
          "output_type": "execute_result"
        }
      ],
      "source": []
    },
    {
      "cell_type": "code",
      "execution_count": 81,
      "metadata": {
        "colab": {
          "base_uri": "https://localhost:8080/",
          "height": 49,
          "referenced_widgets": [
            "acea058cf5ee45e79df24591d36e8541",
            "73df382fe0484060a3631854096201c2",
            "ee7ecc8e54cd435cbec326d566dd240f",
            "a65f081ac704488dbb48e09d366b9800",
            "e47e7de5bc5d4c5688efcbbf6bd3b4a1",
            "3900df30f9264e4ea04e11d24249b427",
            "47cd7ccfc873411d8c9a23b662f4281e",
            "d11b1ad67065498494b715f23a3a3b96",
            "d988b23474a64d3c9fbf6484d5571da5",
            "28470ae28935407e9803a7e684958c8b",
            "bcc5acb5d4f6473286194da61876c15b"
          ]
        },
        "id": "eMiYMA9Fiz6_",
        "outputId": "160ae8df-71ed-482a-93da-55832ddf1551"
      },
      "outputs": [
        {
          "data": {
            "application/vnd.jupyter.widget-view+json": {
              "model_id": "acea058cf5ee45e79df24591d36e8541",
              "version_major": 2,
              "version_minor": 0
            },
            "text/plain": [
              "Map:   0%|          | 0/222 [00:00<?, ? examples/s]"
            ]
          },
          "metadata": {},
          "output_type": "display_data"
        }
      ],
      "source": [
        "validation_features = dataset[\"test\"].map(\n",
        "    prepare_validation_features,\n",
        "    batched=True,\n",
        "    remove_columns=dataset[\"test\"].column_names\n",
        ")"
      ]
    },
    {
      "cell_type": "code",
      "execution_count": 82,
      "metadata": {
        "colab": {
          "base_uri": "https://localhost:8080/",
          "height": 17
        },
        "id": "7Ve9RAZHi3Hx",
        "outputId": "58b9d9e8-1c5c-4cb9-eab7-aa2f37982879"
      },
      "outputs": [
        {
          "data": {
            "text/html": [],
            "text/plain": [
              "<IPython.core.display.HTML object>"
            ]
          },
          "metadata": {},
          "output_type": "display_data"
        }
      ],
      "source": [
        "raw_predictions = trainer.predict(validation_features)"
      ]
    },
    {
      "cell_type": "code",
      "execution_count": 83,
      "metadata": {
        "id": "ic63BdABjgsn"
      },
      "outputs": [],
      "source": [
        "validation_features.set_format(type=validation_features.format[\"type\"], columns=list(validation_features.features.keys()))"
      ]
    },
    {
      "cell_type": "code",
      "execution_count": 84,
      "metadata": {
        "id": "uzJZO65dktB4"
      },
      "outputs": [],
      "source": [
        "max_answer_length = 30"
      ]
    },
    {
      "cell_type": "code",
      "execution_count": 90,
      "metadata": {
        "colab": {
          "base_uri": "https://localhost:8080/",
          "height": 36
        },
        "id": "RiItow5Ik8XH",
        "outputId": "fb1c27e1-b584-4701-c5ba-7c2f9ad12d2f"
      },
      "outputs": [
        {
          "data": {
            "application/vnd.google.colaboratory.intrinsic+json": {
              "type": "string"
            },
            "text/plain": [
              "' چنانچه زن با خود زینت داشته باشد (مانند حلقه ازدواج، یا انگشتری در دست، یا چهره آراسته کرده باشد) آیا واجب است وجه و کفین را بپوشاند؟'"
            ]
          },
          "execution_count": 90,
          "metadata": {},
          "output_type": "execute_result"
        }
      ],
      "source": [
        "dataset[\"test\"][0]['question']"
      ]
    },
    {
      "cell_type": "code",
      "execution_count": 91,
      "metadata": {
        "colab": {
          "base_uri": "https://localhost:8080/",
          "height": 36
        },
        "id": "ourRQxtulBaP",
        "outputId": "48582e1d-782f-4932-ea31-3c86e3188f07"
      },
      "outputs": [
        {
          "data": {
            "application/vnd.google.colaboratory.intrinsic+json": {
              "type": "string"
            },
            "text/plain": [
              "' در مورد حلقه و انگشتر مانعی ندارد ولی در مورد آرایش مشکل است.'"
            ]
          },
          "execution_count": 91,
          "metadata": {},
          "output_type": "execute_result"
        }
      ],
      "source": [
        "dataset[\"test\"][0]['answer']"
      ]
    },
    {
      "cell_type": "code",
      "execution_count": 86,
      "metadata": {
        "colab": {
          "base_uri": "https://localhost:8080/"
        },
        "id": "kYXUrsIukvAQ",
        "outputId": "e4d524a7-db04-4998-9f8b-043381fcd2c7"
      },
      "outputs": [
        {
          "data": {
            "text/plain": [
              "[{'score': 6.295529, 'text': 'ى'},\n",
              " {'score': 3.441913,\n",
              "  'text': 'ولی تا یقین به چنین چیزی نداشته باشد پوشانیدن وجه و کفین'},\n",
              " {'score': 3.2573867, 'text': 'ولی'},\n",
              " {'score': 2.4677737, 'text': 'ى ندارد'},\n",
              " {'score': 2.1780086, 'text': 'ى ندارد; ولى در مورد'},\n",
              " {'score': 2.139566, 'text': 'ى ندارد; ولى در مورد آرایش مشکل است.'},\n",
              " {'score': 2.0265284, 'text': 'ى ندارد; ولى'},\n",
              " {'score': 2.020104, 'text': 'ى ندارد; ولى در مورد آرایش مشکل است'},\n",
              " {'score': 1.986712, 'text': 'ى ندارد; ولى در مورد آرایش مشکل است.\\n در مورد'},\n",
              " {'score': 1.9570975, 'text': 'ى ندارد;'},\n",
              " {'score': 1.951508, 'text': 'ى ندارد; ولى در مورد آرایش مشکل'},\n",
              " {'score': 1.9257369, 'text': 'ى ندارد; ولى در مورد آرایش'},\n",
              " {'score': 1.8770123,\n",
              "  'text': 'ى ندارد; ولى در مورد آرایش مشکل است.\\n در مورد حلقه و انگشتر مانعی ندارد ولی'},\n",
              " {'score': 1.7669568, 'text': 'ى ندارد; ولى در'},\n",
              " {'score': 1.1309173,\n",
              "  'text': 'ندارد; ولى در مورد آرایش مشکل است.\\n در مورد حلقه و انگشتر مانعی ندارد ولی در مورد آرایش مشکل است.\\n در این صورت واجب می\\u200cشود، ولی'},\n",
              " {'score': -0.5805342,\n",
              "  'text': 'تا یقین به چنین چیزی نداشته باشد پوشانیدن وجه و کفین'},\n",
              " {'score': -0.63566303,\n",
              "  'text': '; ولى در مورد آرایش مشکل است.\\n در مورد حلقه و انگشتر مانعی ندارد ولی در مورد آرایش مشکل است.\\n در این صورت واجب می\\u200cشود، ولی'},\n",
              " {'score': -0.88362074, 'text': 'ن'},\n",
              " {'score': -1.1100528,\n",
              "  'text': 'ولى در مورد آرایش مشکل است.\\n در مورد حلقه و انگشتر مانعی ندارد ولی در مورد آرایش مشکل است.\\n در این صورت واجب می\\u200cشود، ولی'},\n",
              " {'score': -1.257786,\n",
              "  'text': '.\\n در مورد حلقه و انگشتر مانعی ندارد ولی در مورد آرایش مشکل است.\\n در این صورت واجب می\\u200cشود، ولی'}]"
            ]
          },
          "execution_count": 86,
          "metadata": {},
          "output_type": "execute_result"
        }
      ],
      "source": [
        "start_logits = output.start_logits[0].cpu().numpy()\n",
        "end_logits = output.end_logits[0].cpu().numpy()\n",
        "offset_mapping = validation_features[0][\"offset_mapping\"]\n",
        "# The first feature comes from the first example. For the more general case, we will need to be match the example_id to\n",
        "# an example index\n",
        "context = dataset[\"test\"][0][\"context\"]\n",
        "\n",
        "# Gather the indices the best start/end logits:\n",
        "start_indexes = np.argsort(start_logits)[-1 : -n_best_size - 1 : -1].tolist()\n",
        "end_indexes = np.argsort(end_logits)[-1 : -n_best_size - 1 : -1].tolist()\n",
        "valid_answers = []\n",
        "for start_index in start_indexes:\n",
        "    for end_index in end_indexes:\n",
        "        # Don't consider out-of-scope answers, either because the indices are out of bounds or correspond\n",
        "        # to part of the input_ids that are not in the context.\n",
        "        if (\n",
        "            start_index >= len(offset_mapping)\n",
        "            or end_index >= len(offset_mapping)\n",
        "            or offset_mapping[start_index] is None\n",
        "            or offset_mapping[end_index] is None\n",
        "        ):\n",
        "            continue\n",
        "        # Don't consider answers with a length that is either < 0 or > max_answer_length.\n",
        "        if end_index < start_index or end_index - start_index + 1 > max_answer_length:\n",
        "            continue\n",
        "        if start_index <= end_index: # We need to refine that test to check the answer is inside the context\n",
        "            start_char = offset_mapping[start_index][0]\n",
        "            end_char = offset_mapping[end_index][1]\n",
        "            valid_answers.append(\n",
        "                {\n",
        "                    \"score\": start_logits[start_index] + end_logits[end_index],\n",
        "                    \"text\": context[start_char: end_char]\n",
        "                }\n",
        "            )\n",
        "\n",
        "valid_answers = sorted(valid_answers, key=lambda x: x[\"score\"], reverse=True)[:n_best_size]\n",
        "valid_answers"
      ]
    },
    {
      "cell_type": "code",
      "execution_count": 92,
      "metadata": {
        "id": "daeFfGoNkxBP"
      },
      "outputs": [],
      "source": [
        "import collections\n",
        "\n",
        "examples = dataset[\"test\"]\n",
        "features = validation_features\n",
        "\n",
        "example_id_to_index = {k: i for i, k in enumerate(examples[\"id\"])}\n",
        "features_per_example = collections.defaultdict(list)\n",
        "for i, feature in enumerate(features):\n",
        "    features_per_example[example_id_to_index[feature[\"example_id\"]]].append(i)"
      ]
    },
    {
      "cell_type": "code",
      "execution_count": 96,
      "metadata": {
        "id": "zSox7TxklNcd"
      },
      "outputs": [],
      "source": [
        "from tqdm.auto import tqdm\n",
        "\n",
        "def postprocess_qa_predictions(examples, features, raw_predictions, n_best_size = 20, max_answer_length = 30):\n",
        "    all_start_logits, all_end_logits = raw_predictions\n",
        "    # Build a map example to its corresponding features.\n",
        "    example_id_to_index = {k: i for i, k in enumerate(examples[\"id\"])}\n",
        "    features_per_example = collections.defaultdict(list)\n",
        "    for i, feature in enumerate(features):\n",
        "        features_per_example[example_id_to_index[feature[\"example_id\"]]].append(i)\n",
        "\n",
        "    # The dictionaries we have to fill.\n",
        "    predictions = collections.OrderedDict()\n",
        "\n",
        "    # Logging.\n",
        "    print(f\"Post-processing {len(examples)} example predictions split into {len(features)} features.\")\n",
        "\n",
        "    # Let's loop over all the examples!\n",
        "    for example_index, example in enumerate(tqdm(examples)):\n",
        "        # Those are the indices of the features associated to the current example.\n",
        "        feature_indices = features_per_example[example_index]\n",
        "\n",
        "        min_null_score = None # Only used if squad_v2 is True.\n",
        "        valid_answers = []\n",
        "\n",
        "        context = example[\"context\"]\n",
        "        # Looping through all the features associated to the current example.\n",
        "        for feature_index in feature_indices:\n",
        "            # We grab the predictions of the model for this feature.\n",
        "            start_logits = all_start_logits[feature_index]\n",
        "            end_logits = all_end_logits[feature_index]\n",
        "            # This is what will allow us to map some the positions in our logits to span of texts in the original\n",
        "            # context.\n",
        "            offset_mapping = features[feature_index][\"offset_mapping\"]\n",
        "\n",
        "            # Update minimum null prediction.\n",
        "            cls_index = features[feature_index][\"input_ids\"].index(tokenizer.cls_token_id)\n",
        "            feature_null_score = start_logits[cls_index] + end_logits[cls_index]\n",
        "            if min_null_score is None or min_null_score < feature_null_score:\n",
        "                min_null_score = feature_null_score\n",
        "\n",
        "            # Go through all possibilities for the `n_best_size` greater start and end logits.\n",
        "            start_indexes = np.argsort(start_logits)[-1 : -n_best_size - 1 : -1].tolist()\n",
        "            end_indexes = np.argsort(end_logits)[-1 : -n_best_size - 1 : -1].tolist()\n",
        "            for start_index in start_indexes:\n",
        "                for end_index in end_indexes:\n",
        "                    # Don't consider out-of-scope answers, either because the indices are out of bounds or correspond\n",
        "                    # to part of the input_ids that are not in the context.\n",
        "                    if (\n",
        "                        start_index >= len(offset_mapping)\n",
        "                        or end_index >= len(offset_mapping)\n",
        "                        or offset_mapping[start_index] is None\n",
        "                        or offset_mapping[end_index] is None\n",
        "                    ):\n",
        "                        continue\n",
        "                    # Don't consider answers with a length that is either < 0 or > max_answer_length.\n",
        "                    if end_index < start_index or end_index - start_index + 1 > max_answer_length:\n",
        "                        continue\n",
        "\n",
        "                    start_char = offset_mapping[start_index][0]\n",
        "                    end_char = offset_mapping[end_index][1]\n",
        "                    valid_answers.append(\n",
        "                        {\n",
        "                            \"score\": start_logits[start_index] + end_logits[end_index],\n",
        "                            \"text\": context[start_char: end_char]\n",
        "                        }\n",
        "                    )\n",
        "\n",
        "        if len(valid_answers) > 0:\n",
        "            best_answer = sorted(valid_answers, key=lambda x: x[\"score\"], reverse=True)[0]\n",
        "        else:\n",
        "            # In the very rare edge case we have not a single non-null prediction, we create a fake prediction to avoid\n",
        "            # failure.\n",
        "            best_answer = {\"text\": \"\", \"score\": 0.0}\n",
        "\n",
        "\n",
        "        predictions[example[\"id\"]] = best_answer[\"text\"]\n",
        "\n",
        "    return predictions"
      ]
    },
    {
      "cell_type": "code",
      "execution_count": 97,
      "metadata": {
        "colab": {
          "base_uri": "https://localhost:8080/",
          "height": 66,
          "referenced_widgets": [
            "e1dd0f3c11294e0caf6b86b990b779cf",
            "00dffe0b19b449738489f0f2be3eb530",
            "a3f8747428074cf58164510a35cba790",
            "48a0800535034222ba449f42f8095f67",
            "717a724fc1704a51a56b15b079f9adf4",
            "95194b080d8b422a82ba83f3ea421858",
            "722586151eec401c9e05931bae742b21",
            "a36e73253dfc41b68062ee17bcf6eb99",
            "c0d6eae7d1ef42c3918b25d6a61e3632",
            "48b327fd10ae4be1961cea017e30aa3c",
            "f5876b16a1e447f5b85ee89278c3b6e2"
          ]
        },
        "id": "8Encljc9lTR5",
        "outputId": "5fd82a81-bf49-4179-a3cf-3b594e41e9d7"
      },
      "outputs": [
        {
          "name": "stdout",
          "output_type": "stream",
          "text": [
            "Post-processing 222 example predictions split into 222 features.\n"
          ]
        },
        {
          "data": {
            "application/vnd.jupyter.widget-view+json": {
              "model_id": "e1dd0f3c11294e0caf6b86b990b779cf",
              "version_major": 2,
              "version_minor": 0
            },
            "text/plain": [
              "  0%|          | 0/222 [00:00<?, ?it/s]"
            ]
          },
          "metadata": {},
          "output_type": "display_data"
        }
      ],
      "source": [
        "final_predictions = postprocess_qa_predictions(dataset[\"test\"], validation_features, raw_predictions.predictions)"
      ]
    },
    {
      "cell_type": "code",
      "execution_count": 99,
      "metadata": {
        "id": "widUHNNVlmnP"
      },
      "outputs": [],
      "source": [
        "from datasets import load_metric"
      ]
    },
    {
      "cell_type": "code",
      "execution_count": 100,
      "metadata": {
        "colab": {
          "base_uri": "https://localhost:8080/",
          "height": 136,
          "referenced_widgets": [
            "d88be4a527244b28b293c06984450c7c",
            "17e5be95a9db414c8bb5388e02c6ab3c",
            "7cfd5ddde48d4325a7d4456b37d2b646",
            "ab0d4275f4714c4ea5eee194f3d0a2ff",
            "056ff7eaa461486d9d2d5203512cc086",
            "0278e9fe36e04b288b7b216bd4fd1001",
            "b49ac04609ba41a4a678222e16c4f270",
            "e443b337d3d2417da82827bf291aa8ae",
            "ca9101b11056477ab47e41ffac9d81ff",
            "61385e5108304ddeb1dda6a0f9ae4d1b",
            "00ffd31a360a4ac5aed1af0dc6c020fb",
            "5baff79562d34f369b9d87741936bfc5",
            "2130f70e91a94651bc870eca279865e5",
            "a5ef7089ef4a404ba1f41069103d5890",
            "f363a2fb28be464dbe6827df508fb1fb",
            "1b314515a0424f3284b763ccd2ca2580",
            "256fd7f8378b467abb164036c2d8c42b",
            "bbc27ce883974bd5bf633ad7c720de60",
            "9afcfb85fb0a4b49a3ceb561193a70ec",
            "750dd97c5e594162b63225e081625ad1",
            "bc9bfd9119ba4a598b6cbc0fef47a9f2",
            "fe42de9e153b46199b1316b11713ae0b"
          ]
        },
        "id": "eHQgGcFxlVqJ",
        "outputId": "74713dea-d334-4696-d4e2-c945006eb2d6"
      },
      "outputs": [
        {
          "name": "stderr",
          "output_type": "stream",
          "text": [
            "<ipython-input-100-7143d13414c2>:1: FutureWarning: load_metric is deprecated and will be removed in the next major version of datasets. Use 'evaluate.load' instead, from the new library 🤗 Evaluate: https://huggingface.co/docs/evaluate\n",
            "  metric = load_metric(\"squad\")\n"
          ]
        },
        {
          "data": {
            "application/vnd.jupyter.widget-view+json": {
              "model_id": "d88be4a527244b28b293c06984450c7c",
              "version_major": 2,
              "version_minor": 0
            },
            "text/plain": [
              "Downloading builder script:   0%|          | 0.00/1.72k [00:00<?, ?B/s]"
            ]
          },
          "metadata": {},
          "output_type": "display_data"
        },
        {
          "data": {
            "application/vnd.jupyter.widget-view+json": {
              "model_id": "5baff79562d34f369b9d87741936bfc5",
              "version_major": 2,
              "version_minor": 0
            },
            "text/plain": [
              "Downloading extra modules:   0%|          | 0.00/1.11k [00:00<?, ?B/s]"
            ]
          },
          "metadata": {},
          "output_type": "display_data"
        }
      ],
      "source": [
        "metric = load_metric(\"squad\")"
      ]
    },
    {
      "cell_type": "code",
      "execution_count": 117,
      "metadata": {
        "id": "ZAaFg3B1lg1_"
      },
      "outputs": [],
      "source": [
        "formatted_predictions = [{\"id\": k, \"prediction_text\": v} for k, v in final_predictions.items()]\n",
        "references = [{\"id\": ex[\"id\"], \"answers\": {\"answer_start\": [ex['context'].find(ex['answer'])], \"text\": [ex['answer']]}} for ex in dataset[\"test\"]]"
      ]
    },
    {
      "cell_type": "code",
      "execution_count": 119,
      "metadata": {
        "colab": {
          "base_uri": "https://localhost:8080/"
        },
        "id": "bm-FdolelnsB",
        "outputId": "a68a9766-6c2b-4719-be6b-12024f52fbe0"
      },
      "outputs": [
        {
          "data": {
            "text/plain": [
              "{'exact_match': 28.37837837837838, 'f1': 47.84916089666119}"
            ]
          },
          "execution_count": 119,
          "metadata": {},
          "output_type": "execute_result"
        }
      ],
      "source": [
        "metric.compute(predictions=formatted_predictions, references=references)"
      ]
    },
    {
      "cell_type": "code",
      "execution_count": null,
      "metadata": {
        "id": "7OK6LzULmtFy"
      },
      "outputs": [],
      "source": []
    }
  ],
  "metadata": {
    "accelerator": "GPU",
    "colab": {
      "gpuType": "T4",
      "provenance": []
    },
    "kernelspec": {
      "display_name": "Python 3",
      "name": "python3"
    },
    "language_info": {
      "name": "python",
      "version": "3.10.12"
    },
    "widgets": {
      "application/vnd.jupyter.widget-state+json": {
        "00dffe0b19b449738489f0f2be3eb530": {
          "model_module": "@jupyter-widgets/controls",
          "model_module_version": "1.5.0",
          "model_name": "HTMLModel",
          "state": {
            "_dom_classes": [],
            "_model_module": "@jupyter-widgets/controls",
            "_model_module_version": "1.5.0",
            "_model_name": "HTMLModel",
            "_view_count": null,
            "_view_module": "@jupyter-widgets/controls",
            "_view_module_version": "1.5.0",
            "_view_name": "HTMLView",
            "description": "",
            "description_tooltip": null,
            "layout": "IPY_MODEL_95194b080d8b422a82ba83f3ea421858",
            "placeholder": "​",
            "style": "IPY_MODEL_722586151eec401c9e05931bae742b21",
            "value": "100%"
          }
        },
        "00ffd31a360a4ac5aed1af0dc6c020fb": {
          "model_module": "@jupyter-widgets/controls",
          "model_module_version": "1.5.0",
          "model_name": "DescriptionStyleModel",
          "state": {
            "_model_module": "@jupyter-widgets/controls",
            "_model_module_version": "1.5.0",
            "_model_name": "DescriptionStyleModel",
            "_view_count": null,
            "_view_module": "@jupyter-widgets/base",
            "_view_module_version": "1.2.0",
            "_view_name": "StyleView",
            "description_width": ""
          }
        },
        "0211d6c4fd4142aea8cd59ee4197effa": {
          "model_module": "@jupyter-widgets/controls",
          "model_module_version": "1.5.0",
          "model_name": "ProgressStyleModel",
          "state": {
            "_model_module": "@jupyter-widgets/controls",
            "_model_module_version": "1.5.0",
            "_model_name": "ProgressStyleModel",
            "_view_count": null,
            "_view_module": "@jupyter-widgets/base",
            "_view_module_version": "1.2.0",
            "_view_name": "StyleView",
            "bar_color": null,
            "description_width": ""
          }
        },
        "0278e9fe36e04b288b7b216bd4fd1001": {
          "model_module": "@jupyter-widgets/base",
          "model_module_version": "1.2.0",
          "model_name": "LayoutModel",
          "state": {
            "_model_module": "@jupyter-widgets/base",
            "_model_module_version": "1.2.0",
            "_model_name": "LayoutModel",
            "_view_count": null,
            "_view_module": "@jupyter-widgets/base",
            "_view_module_version": "1.2.0",
            "_view_name": "LayoutView",
            "align_content": null,
            "align_items": null,
            "align_self": null,
            "border": null,
            "bottom": null,
            "display": null,
            "flex": null,
            "flex_flow": null,
            "grid_area": null,
            "grid_auto_columns": null,
            "grid_auto_flow": null,
            "grid_auto_rows": null,
            "grid_column": null,
            "grid_gap": null,
            "grid_row": null,
            "grid_template_areas": null,
            "grid_template_columns": null,
            "grid_template_rows": null,
            "height": null,
            "justify_content": null,
            "justify_items": null,
            "left": null,
            "margin": null,
            "max_height": null,
            "max_width": null,
            "min_height": null,
            "min_width": null,
            "object_fit": null,
            "object_position": null,
            "order": null,
            "overflow": null,
            "overflow_x": null,
            "overflow_y": null,
            "padding": null,
            "right": null,
            "top": null,
            "visibility": null,
            "width": null
          }
        },
        "056ff7eaa461486d9d2d5203512cc086": {
          "model_module": "@jupyter-widgets/base",
          "model_module_version": "1.2.0",
          "model_name": "LayoutModel",
          "state": {
            "_model_module": "@jupyter-widgets/base",
            "_model_module_version": "1.2.0",
            "_model_name": "LayoutModel",
            "_view_count": null,
            "_view_module": "@jupyter-widgets/base",
            "_view_module_version": "1.2.0",
            "_view_name": "LayoutView",
            "align_content": null,
            "align_items": null,
            "align_self": null,
            "border": null,
            "bottom": null,
            "display": null,
            "flex": null,
            "flex_flow": null,
            "grid_area": null,
            "grid_auto_columns": null,
            "grid_auto_flow": null,
            "grid_auto_rows": null,
            "grid_column": null,
            "grid_gap": null,
            "grid_row": null,
            "grid_template_areas": null,
            "grid_template_columns": null,
            "grid_template_rows": null,
            "height": null,
            "justify_content": null,
            "justify_items": null,
            "left": null,
            "margin": null,
            "max_height": null,
            "max_width": null,
            "min_height": null,
            "min_width": null,
            "object_fit": null,
            "object_position": null,
            "order": null,
            "overflow": null,
            "overflow_x": null,
            "overflow_y": null,
            "padding": null,
            "right": null,
            "top": null,
            "visibility": null,
            "width": null
          }
        },
        "10702b97db924c9ab1b9ad059e1ef938": {
          "model_module": "@jupyter-widgets/controls",
          "model_module_version": "1.5.0",
          "model_name": "HBoxModel",
          "state": {
            "_dom_classes": [],
            "_model_module": "@jupyter-widgets/controls",
            "_model_module_version": "1.5.0",
            "_model_name": "HBoxModel",
            "_view_count": null,
            "_view_module": "@jupyter-widgets/controls",
            "_view_module_version": "1.5.0",
            "_view_name": "HBoxView",
            "box_style": "",
            "children": [
              "IPY_MODEL_71b00addf6fb4442bd35aab7f6dd4807",
              "IPY_MODEL_b78370b160e3469e92bdc76758255fe7",
              "IPY_MODEL_27c970577cec47d9a5c73e4fc6ab39fa"
            ],
            "layout": "IPY_MODEL_fc65a8939ee04b25a21d714e57adf10a"
          }
        },
        "129bf825df984863b466dfb49f38360f": {
          "model_module": "@jupyter-widgets/controls",
          "model_module_version": "1.5.0",
          "model_name": "HTMLModel",
          "state": {
            "_dom_classes": [],
            "_model_module": "@jupyter-widgets/controls",
            "_model_module_version": "1.5.0",
            "_model_name": "HTMLModel",
            "_view_count": null,
            "_view_module": "@jupyter-widgets/controls",
            "_view_module_version": "1.5.0",
            "_view_name": "HTMLView",
            "description": "",
            "description_tooltip": null,
            "layout": "IPY_MODEL_e769038e6ed948358f4aa794fa791a89",
            "placeholder": "​",
            "style": "IPY_MODEL_d595b581614a4ed196f148b2cbb0bfc0",
            "value": " 222/222 [00:00&lt;00:00, 858.70 examples/s]"
          }
        },
        "17e5be95a9db414c8bb5388e02c6ab3c": {
          "model_module": "@jupyter-widgets/controls",
          "model_module_version": "1.5.0",
          "model_name": "HTMLModel",
          "state": {
            "_dom_classes": [],
            "_model_module": "@jupyter-widgets/controls",
            "_model_module_version": "1.5.0",
            "_model_name": "HTMLModel",
            "_view_count": null,
            "_view_module": "@jupyter-widgets/controls",
            "_view_module_version": "1.5.0",
            "_view_name": "HTMLView",
            "description": "",
            "description_tooltip": null,
            "layout": "IPY_MODEL_0278e9fe36e04b288b7b216bd4fd1001",
            "placeholder": "​",
            "style": "IPY_MODEL_b49ac04609ba41a4a678222e16c4f270",
            "value": "Downloading builder script: "
          }
        },
        "1b314515a0424f3284b763ccd2ca2580": {
          "model_module": "@jupyter-widgets/base",
          "model_module_version": "1.2.0",
          "model_name": "LayoutModel",
          "state": {
            "_model_module": "@jupyter-widgets/base",
            "_model_module_version": "1.2.0",
            "_model_name": "LayoutModel",
            "_view_count": null,
            "_view_module": "@jupyter-widgets/base",
            "_view_module_version": "1.2.0",
            "_view_name": "LayoutView",
            "align_content": null,
            "align_items": null,
            "align_self": null,
            "border": null,
            "bottom": null,
            "display": null,
            "flex": null,
            "flex_flow": null,
            "grid_area": null,
            "grid_auto_columns": null,
            "grid_auto_flow": null,
            "grid_auto_rows": null,
            "grid_column": null,
            "grid_gap": null,
            "grid_row": null,
            "grid_template_areas": null,
            "grid_template_columns": null,
            "grid_template_rows": null,
            "height": null,
            "justify_content": null,
            "justify_items": null,
            "left": null,
            "margin": null,
            "max_height": null,
            "max_width": null,
            "min_height": null,
            "min_width": null,
            "object_fit": null,
            "object_position": null,
            "order": null,
            "overflow": null,
            "overflow_x": null,
            "overflow_y": null,
            "padding": null,
            "right": null,
            "top": null,
            "visibility": null,
            "width": null
          }
        },
        "1ef2f9eb32e341f2ae4183485ca72e0c": {
          "model_module": "@jupyter-widgets/base",
          "model_module_version": "1.2.0",
          "model_name": "LayoutModel",
          "state": {
            "_model_module": "@jupyter-widgets/base",
            "_model_module_version": "1.2.0",
            "_model_name": "LayoutModel",
            "_view_count": null,
            "_view_module": "@jupyter-widgets/base",
            "_view_module_version": "1.2.0",
            "_view_name": "LayoutView",
            "align_content": null,
            "align_items": null,
            "align_self": null,
            "border": null,
            "bottom": null,
            "display": null,
            "flex": null,
            "flex_flow": null,
            "grid_area": null,
            "grid_auto_columns": null,
            "grid_auto_flow": null,
            "grid_auto_rows": null,
            "grid_column": null,
            "grid_gap": null,
            "grid_row": null,
            "grid_template_areas": null,
            "grid_template_columns": null,
            "grid_template_rows": null,
            "height": null,
            "justify_content": null,
            "justify_items": null,
            "left": null,
            "margin": null,
            "max_height": null,
            "max_width": null,
            "min_height": null,
            "min_width": null,
            "object_fit": null,
            "object_position": null,
            "order": null,
            "overflow": null,
            "overflow_x": null,
            "overflow_y": null,
            "padding": null,
            "right": null,
            "top": null,
            "visibility": null,
            "width": null
          }
        },
        "2130f70e91a94651bc870eca279865e5": {
          "model_module": "@jupyter-widgets/controls",
          "model_module_version": "1.5.0",
          "model_name": "HTMLModel",
          "state": {
            "_dom_classes": [],
            "_model_module": "@jupyter-widgets/controls",
            "_model_module_version": "1.5.0",
            "_model_name": "HTMLModel",
            "_view_count": null,
            "_view_module": "@jupyter-widgets/controls",
            "_view_module_version": "1.5.0",
            "_view_name": "HTMLView",
            "description": "",
            "description_tooltip": null,
            "layout": "IPY_MODEL_256fd7f8378b467abb164036c2d8c42b",
            "placeholder": "​",
            "style": "IPY_MODEL_bbc27ce883974bd5bf633ad7c720de60",
            "value": "Downloading extra modules: "
          }
        },
        "256fd7f8378b467abb164036c2d8c42b": {
          "model_module": "@jupyter-widgets/base",
          "model_module_version": "1.2.0",
          "model_name": "LayoutModel",
          "state": {
            "_model_module": "@jupyter-widgets/base",
            "_model_module_version": "1.2.0",
            "_model_name": "LayoutModel",
            "_view_count": null,
            "_view_module": "@jupyter-widgets/base",
            "_view_module_version": "1.2.0",
            "_view_name": "LayoutView",
            "align_content": null,
            "align_items": null,
            "align_self": null,
            "border": null,
            "bottom": null,
            "display": null,
            "flex": null,
            "flex_flow": null,
            "grid_area": null,
            "grid_auto_columns": null,
            "grid_auto_flow": null,
            "grid_auto_rows": null,
            "grid_column": null,
            "grid_gap": null,
            "grid_row": null,
            "grid_template_areas": null,
            "grid_template_columns": null,
            "grid_template_rows": null,
            "height": null,
            "justify_content": null,
            "justify_items": null,
            "left": null,
            "margin": null,
            "max_height": null,
            "max_width": null,
            "min_height": null,
            "min_width": null,
            "object_fit": null,
            "object_position": null,
            "order": null,
            "overflow": null,
            "overflow_x": null,
            "overflow_y": null,
            "padding": null,
            "right": null,
            "top": null,
            "visibility": null,
            "width": null
          }
        },
        "27c970577cec47d9a5c73e4fc6ab39fa": {
          "model_module": "@jupyter-widgets/controls",
          "model_module_version": "1.5.0",
          "model_name": "HTMLModel",
          "state": {
            "_dom_classes": [],
            "_model_module": "@jupyter-widgets/controls",
            "_model_module_version": "1.5.0",
            "_model_name": "HTMLModel",
            "_view_count": null,
            "_view_module": "@jupyter-widgets/controls",
            "_view_module_version": "1.5.0",
            "_view_name": "HTMLView",
            "description": "",
            "description_tooltip": null,
            "layout": "IPY_MODEL_87290a3479614e149efa0a78fc859428",
            "placeholder": "​",
            "style": "IPY_MODEL_cbe17375ea1041fba697fd19094fffbc",
            "value": " 1770/1770 [00:01&lt;00:00, 1204.01 examples/s]"
          }
        },
        "28470ae28935407e9803a7e684958c8b": {
          "model_module": "@jupyter-widgets/base",
          "model_module_version": "1.2.0",
          "model_name": "LayoutModel",
          "state": {
            "_model_module": "@jupyter-widgets/base",
            "_model_module_version": "1.2.0",
            "_model_name": "LayoutModel",
            "_view_count": null,
            "_view_module": "@jupyter-widgets/base",
            "_view_module_version": "1.2.0",
            "_view_name": "LayoutView",
            "align_content": null,
            "align_items": null,
            "align_self": null,
            "border": null,
            "bottom": null,
            "display": null,
            "flex": null,
            "flex_flow": null,
            "grid_area": null,
            "grid_auto_columns": null,
            "grid_auto_flow": null,
            "grid_auto_rows": null,
            "grid_column": null,
            "grid_gap": null,
            "grid_row": null,
            "grid_template_areas": null,
            "grid_template_columns": null,
            "grid_template_rows": null,
            "height": null,
            "justify_content": null,
            "justify_items": null,
            "left": null,
            "margin": null,
            "max_height": null,
            "max_width": null,
            "min_height": null,
            "min_width": null,
            "object_fit": null,
            "object_position": null,
            "order": null,
            "overflow": null,
            "overflow_x": null,
            "overflow_y": null,
            "padding": null,
            "right": null,
            "top": null,
            "visibility": null,
            "width": null
          }
        },
        "2b06daa47eef49c7b9bbe2142d48cc5f": {
          "model_module": "@jupyter-widgets/base",
          "model_module_version": "1.2.0",
          "model_name": "LayoutModel",
          "state": {
            "_model_module": "@jupyter-widgets/base",
            "_model_module_version": "1.2.0",
            "_model_name": "LayoutModel",
            "_view_count": null,
            "_view_module": "@jupyter-widgets/base",
            "_view_module_version": "1.2.0",
            "_view_name": "LayoutView",
            "align_content": null,
            "align_items": null,
            "align_self": null,
            "border": null,
            "bottom": null,
            "display": null,
            "flex": null,
            "flex_flow": null,
            "grid_area": null,
            "grid_auto_columns": null,
            "grid_auto_flow": null,
            "grid_auto_rows": null,
            "grid_column": null,
            "grid_gap": null,
            "grid_row": null,
            "grid_template_areas": null,
            "grid_template_columns": null,
            "grid_template_rows": null,
            "height": null,
            "justify_content": null,
            "justify_items": null,
            "left": null,
            "margin": null,
            "max_height": null,
            "max_width": null,
            "min_height": null,
            "min_width": null,
            "object_fit": null,
            "object_position": null,
            "order": null,
            "overflow": null,
            "overflow_x": null,
            "overflow_y": null,
            "padding": null,
            "right": null,
            "top": null,
            "visibility": null,
            "width": null
          }
        },
        "309b1ae259b84c8b80d453b5ca116651": {
          "model_module": "@jupyter-widgets/base",
          "model_module_version": "1.2.0",
          "model_name": "LayoutModel",
          "state": {
            "_model_module": "@jupyter-widgets/base",
            "_model_module_version": "1.2.0",
            "_model_name": "LayoutModel",
            "_view_count": null,
            "_view_module": "@jupyter-widgets/base",
            "_view_module_version": "1.2.0",
            "_view_name": "LayoutView",
            "align_content": null,
            "align_items": null,
            "align_self": null,
            "border": null,
            "bottom": null,
            "display": null,
            "flex": null,
            "flex_flow": null,
            "grid_area": null,
            "grid_auto_columns": null,
            "grid_auto_flow": null,
            "grid_auto_rows": null,
            "grid_column": null,
            "grid_gap": null,
            "grid_row": null,
            "grid_template_areas": null,
            "grid_template_columns": null,
            "grid_template_rows": null,
            "height": null,
            "justify_content": null,
            "justify_items": null,
            "left": null,
            "margin": null,
            "max_height": null,
            "max_width": null,
            "min_height": null,
            "min_width": null,
            "object_fit": null,
            "object_position": null,
            "order": null,
            "overflow": null,
            "overflow_x": null,
            "overflow_y": null,
            "padding": null,
            "right": null,
            "top": null,
            "visibility": null,
            "width": null
          }
        },
        "3900df30f9264e4ea04e11d24249b427": {
          "model_module": "@jupyter-widgets/base",
          "model_module_version": "1.2.0",
          "model_name": "LayoutModel",
          "state": {
            "_model_module": "@jupyter-widgets/base",
            "_model_module_version": "1.2.0",
            "_model_name": "LayoutModel",
            "_view_count": null,
            "_view_module": "@jupyter-widgets/base",
            "_view_module_version": "1.2.0",
            "_view_name": "LayoutView",
            "align_content": null,
            "align_items": null,
            "align_self": null,
            "border": null,
            "bottom": null,
            "display": null,
            "flex": null,
            "flex_flow": null,
            "grid_area": null,
            "grid_auto_columns": null,
            "grid_auto_flow": null,
            "grid_auto_rows": null,
            "grid_column": null,
            "grid_gap": null,
            "grid_row": null,
            "grid_template_areas": null,
            "grid_template_columns": null,
            "grid_template_rows": null,
            "height": null,
            "justify_content": null,
            "justify_items": null,
            "left": null,
            "margin": null,
            "max_height": null,
            "max_width": null,
            "min_height": null,
            "min_width": null,
            "object_fit": null,
            "object_position": null,
            "order": null,
            "overflow": null,
            "overflow_x": null,
            "overflow_y": null,
            "padding": null,
            "right": null,
            "top": null,
            "visibility": null,
            "width": null
          }
        },
        "3a5a576758524a7fa92985aa12066b4f": {
          "model_module": "@jupyter-widgets/base",
          "model_module_version": "1.2.0",
          "model_name": "LayoutModel",
          "state": {
            "_model_module": "@jupyter-widgets/base",
            "_model_module_version": "1.2.0",
            "_model_name": "LayoutModel",
            "_view_count": null,
            "_view_module": "@jupyter-widgets/base",
            "_view_module_version": "1.2.0",
            "_view_name": "LayoutView",
            "align_content": null,
            "align_items": null,
            "align_self": null,
            "border": null,
            "bottom": null,
            "display": null,
            "flex": null,
            "flex_flow": null,
            "grid_area": null,
            "grid_auto_columns": null,
            "grid_auto_flow": null,
            "grid_auto_rows": null,
            "grid_column": null,
            "grid_gap": null,
            "grid_row": null,
            "grid_template_areas": null,
            "grid_template_columns": null,
            "grid_template_rows": null,
            "height": null,
            "justify_content": null,
            "justify_items": null,
            "left": null,
            "margin": null,
            "max_height": null,
            "max_width": null,
            "min_height": null,
            "min_width": null,
            "object_fit": null,
            "object_position": null,
            "order": null,
            "overflow": null,
            "overflow_x": null,
            "overflow_y": null,
            "padding": null,
            "right": null,
            "top": null,
            "visibility": null,
            "width": null
          }
        },
        "3b4ac6309c544a5a90daf27bb161ab2b": {
          "model_module": "@jupyter-widgets/controls",
          "model_module_version": "1.5.0",
          "model_name": "HBoxModel",
          "state": {
            "_dom_classes": [],
            "_model_module": "@jupyter-widgets/controls",
            "_model_module_version": "1.5.0",
            "_model_name": "HBoxModel",
            "_view_count": null,
            "_view_module": "@jupyter-widgets/controls",
            "_view_module_version": "1.5.0",
            "_view_name": "HBoxView",
            "box_style": "",
            "children": [
              "IPY_MODEL_b67f3666ae8a4f28ad441e8e9b01b97b",
              "IPY_MODEL_e44296d4f9464288aa6e88ce034aa4ff",
              "IPY_MODEL_129bf825df984863b466dfb49f38360f"
            ],
            "layout": "IPY_MODEL_2b06daa47eef49c7b9bbe2142d48cc5f"
          }
        },
        "3c39dc85be3644a38e13c19e8e2534ce": {
          "model_module": "@jupyter-widgets/controls",
          "model_module_version": "1.5.0",
          "model_name": "DescriptionStyleModel",
          "state": {
            "_model_module": "@jupyter-widgets/controls",
            "_model_module_version": "1.5.0",
            "_model_name": "DescriptionStyleModel",
            "_view_count": null,
            "_view_module": "@jupyter-widgets/base",
            "_view_module_version": "1.2.0",
            "_view_name": "StyleView",
            "description_width": ""
          }
        },
        "44b4149fd95d46be97ad2738bc429ba5": {
          "model_module": "@jupyter-widgets/base",
          "model_module_version": "1.2.0",
          "model_name": "LayoutModel",
          "state": {
            "_model_module": "@jupyter-widgets/base",
            "_model_module_version": "1.2.0",
            "_model_name": "LayoutModel",
            "_view_count": null,
            "_view_module": "@jupyter-widgets/base",
            "_view_module_version": "1.2.0",
            "_view_name": "LayoutView",
            "align_content": null,
            "align_items": null,
            "align_self": null,
            "border": null,
            "bottom": null,
            "display": null,
            "flex": null,
            "flex_flow": null,
            "grid_area": null,
            "grid_auto_columns": null,
            "grid_auto_flow": null,
            "grid_auto_rows": null,
            "grid_column": null,
            "grid_gap": null,
            "grid_row": null,
            "grid_template_areas": null,
            "grid_template_columns": null,
            "grid_template_rows": null,
            "height": null,
            "justify_content": null,
            "justify_items": null,
            "left": null,
            "margin": null,
            "max_height": null,
            "max_width": null,
            "min_height": null,
            "min_width": null,
            "object_fit": null,
            "object_position": null,
            "order": null,
            "overflow": null,
            "overflow_x": null,
            "overflow_y": null,
            "padding": null,
            "right": null,
            "top": null,
            "visibility": null,
            "width": null
          }
        },
        "47cd7ccfc873411d8c9a23b662f4281e": {
          "model_module": "@jupyter-widgets/controls",
          "model_module_version": "1.5.0",
          "model_name": "DescriptionStyleModel",
          "state": {
            "_model_module": "@jupyter-widgets/controls",
            "_model_module_version": "1.5.0",
            "_model_name": "DescriptionStyleModel",
            "_view_count": null,
            "_view_module": "@jupyter-widgets/base",
            "_view_module_version": "1.2.0",
            "_view_name": "StyleView",
            "description_width": ""
          }
        },
        "48a0800535034222ba449f42f8095f67": {
          "model_module": "@jupyter-widgets/controls",
          "model_module_version": "1.5.0",
          "model_name": "HTMLModel",
          "state": {
            "_dom_classes": [],
            "_model_module": "@jupyter-widgets/controls",
            "_model_module_version": "1.5.0",
            "_model_name": "HTMLModel",
            "_view_count": null,
            "_view_module": "@jupyter-widgets/controls",
            "_view_module_version": "1.5.0",
            "_view_name": "HTMLView",
            "description": "",
            "description_tooltip": null,
            "layout": "IPY_MODEL_48b327fd10ae4be1961cea017e30aa3c",
            "placeholder": "​",
            "style": "IPY_MODEL_f5876b16a1e447f5b85ee89278c3b6e2",
            "value": " 222/222 [00:00&lt;00:00, 276.38it/s]"
          }
        },
        "48b327fd10ae4be1961cea017e30aa3c": {
          "model_module": "@jupyter-widgets/base",
          "model_module_version": "1.2.0",
          "model_name": "LayoutModel",
          "state": {
            "_model_module": "@jupyter-widgets/base",
            "_model_module_version": "1.2.0",
            "_model_name": "LayoutModel",
            "_view_count": null,
            "_view_module": "@jupyter-widgets/base",
            "_view_module_version": "1.2.0",
            "_view_name": "LayoutView",
            "align_content": null,
            "align_items": null,
            "align_self": null,
            "border": null,
            "bottom": null,
            "display": null,
            "flex": null,
            "flex_flow": null,
            "grid_area": null,
            "grid_auto_columns": null,
            "grid_auto_flow": null,
            "grid_auto_rows": null,
            "grid_column": null,
            "grid_gap": null,
            "grid_row": null,
            "grid_template_areas": null,
            "grid_template_columns": null,
            "grid_template_rows": null,
            "height": null,
            "justify_content": null,
            "justify_items": null,
            "left": null,
            "margin": null,
            "max_height": null,
            "max_width": null,
            "min_height": null,
            "min_width": null,
            "object_fit": null,
            "object_position": null,
            "order": null,
            "overflow": null,
            "overflow_x": null,
            "overflow_y": null,
            "padding": null,
            "right": null,
            "top": null,
            "visibility": null,
            "width": null
          }
        },
        "49da74efdbd74f7794288ffb9490ac9a": {
          "model_module": "@jupyter-widgets/base",
          "model_module_version": "1.2.0",
          "model_name": "LayoutModel",
          "state": {
            "_model_module": "@jupyter-widgets/base",
            "_model_module_version": "1.2.0",
            "_model_name": "LayoutModel",
            "_view_count": null,
            "_view_module": "@jupyter-widgets/base",
            "_view_module_version": "1.2.0",
            "_view_name": "LayoutView",
            "align_content": null,
            "align_items": null,
            "align_self": null,
            "border": null,
            "bottom": null,
            "display": null,
            "flex": null,
            "flex_flow": null,
            "grid_area": null,
            "grid_auto_columns": null,
            "grid_auto_flow": null,
            "grid_auto_rows": null,
            "grid_column": null,
            "grid_gap": null,
            "grid_row": null,
            "grid_template_areas": null,
            "grid_template_columns": null,
            "grid_template_rows": null,
            "height": null,
            "justify_content": null,
            "justify_items": null,
            "left": null,
            "margin": null,
            "max_height": null,
            "max_width": null,
            "min_height": null,
            "min_width": null,
            "object_fit": null,
            "object_position": null,
            "order": null,
            "overflow": null,
            "overflow_x": null,
            "overflow_y": null,
            "padding": null,
            "right": null,
            "top": null,
            "visibility": null,
            "width": null
          }
        },
        "53dba3829ed1452fae3f0f1ead3c99af": {
          "model_module": "@jupyter-widgets/controls",
          "model_module_version": "1.5.0",
          "model_name": "ProgressStyleModel",
          "state": {
            "_model_module": "@jupyter-widgets/controls",
            "_model_module_version": "1.5.0",
            "_model_name": "ProgressStyleModel",
            "_view_count": null,
            "_view_module": "@jupyter-widgets/base",
            "_view_module_version": "1.2.0",
            "_view_name": "StyleView",
            "bar_color": null,
            "description_width": ""
          }
        },
        "5baff79562d34f369b9d87741936bfc5": {
          "model_module": "@jupyter-widgets/controls",
          "model_module_version": "1.5.0",
          "model_name": "HBoxModel",
          "state": {
            "_dom_classes": [],
            "_model_module": "@jupyter-widgets/controls",
            "_model_module_version": "1.5.0",
            "_model_name": "HBoxModel",
            "_view_count": null,
            "_view_module": "@jupyter-widgets/controls",
            "_view_module_version": "1.5.0",
            "_view_name": "HBoxView",
            "box_style": "",
            "children": [
              "IPY_MODEL_2130f70e91a94651bc870eca279865e5",
              "IPY_MODEL_a5ef7089ef4a404ba1f41069103d5890",
              "IPY_MODEL_f363a2fb28be464dbe6827df508fb1fb"
            ],
            "layout": "IPY_MODEL_1b314515a0424f3284b763ccd2ca2580"
          }
        },
        "5bbee9470af441b4b8d1103caffd3d3e": {
          "model_module": "@jupyter-widgets/controls",
          "model_module_version": "1.5.0",
          "model_name": "DescriptionStyleModel",
          "state": {
            "_model_module": "@jupyter-widgets/controls",
            "_model_module_version": "1.5.0",
            "_model_name": "DescriptionStyleModel",
            "_view_count": null,
            "_view_module": "@jupyter-widgets/base",
            "_view_module_version": "1.2.0",
            "_view_name": "StyleView",
            "description_width": ""
          }
        },
        "61385e5108304ddeb1dda6a0f9ae4d1b": {
          "model_module": "@jupyter-widgets/base",
          "model_module_version": "1.2.0",
          "model_name": "LayoutModel",
          "state": {
            "_model_module": "@jupyter-widgets/base",
            "_model_module_version": "1.2.0",
            "_model_name": "LayoutModel",
            "_view_count": null,
            "_view_module": "@jupyter-widgets/base",
            "_view_module_version": "1.2.0",
            "_view_name": "LayoutView",
            "align_content": null,
            "align_items": null,
            "align_self": null,
            "border": null,
            "bottom": null,
            "display": null,
            "flex": null,
            "flex_flow": null,
            "grid_area": null,
            "grid_auto_columns": null,
            "grid_auto_flow": null,
            "grid_auto_rows": null,
            "grid_column": null,
            "grid_gap": null,
            "grid_row": null,
            "grid_template_areas": null,
            "grid_template_columns": null,
            "grid_template_rows": null,
            "height": null,
            "justify_content": null,
            "justify_items": null,
            "left": null,
            "margin": null,
            "max_height": null,
            "max_width": null,
            "min_height": null,
            "min_width": null,
            "object_fit": null,
            "object_position": null,
            "order": null,
            "overflow": null,
            "overflow_x": null,
            "overflow_y": null,
            "padding": null,
            "right": null,
            "top": null,
            "visibility": null,
            "width": null
          }
        },
        "6affb5a86fa345a38c6147a545ff9885": {
          "model_module": "@jupyter-widgets/base",
          "model_module_version": "1.2.0",
          "model_name": "LayoutModel",
          "state": {
            "_model_module": "@jupyter-widgets/base",
            "_model_module_version": "1.2.0",
            "_model_name": "LayoutModel",
            "_view_count": null,
            "_view_module": "@jupyter-widgets/base",
            "_view_module_version": "1.2.0",
            "_view_name": "LayoutView",
            "align_content": null,
            "align_items": null,
            "align_self": null,
            "border": null,
            "bottom": null,
            "display": null,
            "flex": null,
            "flex_flow": null,
            "grid_area": null,
            "grid_auto_columns": null,
            "grid_auto_flow": null,
            "grid_auto_rows": null,
            "grid_column": null,
            "grid_gap": null,
            "grid_row": null,
            "grid_template_areas": null,
            "grid_template_columns": null,
            "grid_template_rows": null,
            "height": null,
            "justify_content": null,
            "justify_items": null,
            "left": null,
            "margin": null,
            "max_height": null,
            "max_width": null,
            "min_height": null,
            "min_width": null,
            "object_fit": null,
            "object_position": null,
            "order": null,
            "overflow": null,
            "overflow_x": null,
            "overflow_y": null,
            "padding": null,
            "right": null,
            "top": null,
            "visibility": null,
            "width": null
          }
        },
        "717a724fc1704a51a56b15b079f9adf4": {
          "model_module": "@jupyter-widgets/base",
          "model_module_version": "1.2.0",
          "model_name": "LayoutModel",
          "state": {
            "_model_module": "@jupyter-widgets/base",
            "_model_module_version": "1.2.0",
            "_model_name": "LayoutModel",
            "_view_count": null,
            "_view_module": "@jupyter-widgets/base",
            "_view_module_version": "1.2.0",
            "_view_name": "LayoutView",
            "align_content": null,
            "align_items": null,
            "align_self": null,
            "border": null,
            "bottom": null,
            "display": null,
            "flex": null,
            "flex_flow": null,
            "grid_area": null,
            "grid_auto_columns": null,
            "grid_auto_flow": null,
            "grid_auto_rows": null,
            "grid_column": null,
            "grid_gap": null,
            "grid_row": null,
            "grid_template_areas": null,
            "grid_template_columns": null,
            "grid_template_rows": null,
            "height": null,
            "justify_content": null,
            "justify_items": null,
            "left": null,
            "margin": null,
            "max_height": null,
            "max_width": null,
            "min_height": null,
            "min_width": null,
            "object_fit": null,
            "object_position": null,
            "order": null,
            "overflow": null,
            "overflow_x": null,
            "overflow_y": null,
            "padding": null,
            "right": null,
            "top": null,
            "visibility": null,
            "width": null
          }
        },
        "71b00addf6fb4442bd35aab7f6dd4807": {
          "model_module": "@jupyter-widgets/controls",
          "model_module_version": "1.5.0",
          "model_name": "HTMLModel",
          "state": {
            "_dom_classes": [],
            "_model_module": "@jupyter-widgets/controls",
            "_model_module_version": "1.5.0",
            "_model_name": "HTMLModel",
            "_view_count": null,
            "_view_module": "@jupyter-widgets/controls",
            "_view_module_version": "1.5.0",
            "_view_name": "HTMLView",
            "description": "",
            "description_tooltip": null,
            "layout": "IPY_MODEL_3a5a576758524a7fa92985aa12066b4f",
            "placeholder": "​",
            "style": "IPY_MODEL_5bbee9470af441b4b8d1103caffd3d3e",
            "value": "Map: 100%"
          }
        },
        "722586151eec401c9e05931bae742b21": {
          "model_module": "@jupyter-widgets/controls",
          "model_module_version": "1.5.0",
          "model_name": "DescriptionStyleModel",
          "state": {
            "_model_module": "@jupyter-widgets/controls",
            "_model_module_version": "1.5.0",
            "_model_name": "DescriptionStyleModel",
            "_view_count": null,
            "_view_module": "@jupyter-widgets/base",
            "_view_module_version": "1.2.0",
            "_view_name": "StyleView",
            "description_width": ""
          }
        },
        "734dc0aeb760433d8b52cd5a90e7095d": {
          "model_module": "@jupyter-widgets/base",
          "model_module_version": "1.2.0",
          "model_name": "LayoutModel",
          "state": {
            "_model_module": "@jupyter-widgets/base",
            "_model_module_version": "1.2.0",
            "_model_name": "LayoutModel",
            "_view_count": null,
            "_view_module": "@jupyter-widgets/base",
            "_view_module_version": "1.2.0",
            "_view_name": "LayoutView",
            "align_content": null,
            "align_items": null,
            "align_self": null,
            "border": null,
            "bottom": null,
            "display": null,
            "flex": null,
            "flex_flow": null,
            "grid_area": null,
            "grid_auto_columns": null,
            "grid_auto_flow": null,
            "grid_auto_rows": null,
            "grid_column": null,
            "grid_gap": null,
            "grid_row": null,
            "grid_template_areas": null,
            "grid_template_columns": null,
            "grid_template_rows": null,
            "height": null,
            "justify_content": null,
            "justify_items": null,
            "left": null,
            "margin": null,
            "max_height": null,
            "max_width": null,
            "min_height": null,
            "min_width": null,
            "object_fit": null,
            "object_position": null,
            "order": null,
            "overflow": null,
            "overflow_x": null,
            "overflow_y": null,
            "padding": null,
            "right": null,
            "top": null,
            "visibility": null,
            "width": null
          }
        },
        "73df382fe0484060a3631854096201c2": {
          "model_module": "@jupyter-widgets/controls",
          "model_module_version": "1.5.0",
          "model_name": "HTMLModel",
          "state": {
            "_dom_classes": [],
            "_model_module": "@jupyter-widgets/controls",
            "_model_module_version": "1.5.0",
            "_model_name": "HTMLModel",
            "_view_count": null,
            "_view_module": "@jupyter-widgets/controls",
            "_view_module_version": "1.5.0",
            "_view_name": "HTMLView",
            "description": "",
            "description_tooltip": null,
            "layout": "IPY_MODEL_3900df30f9264e4ea04e11d24249b427",
            "placeholder": "​",
            "style": "IPY_MODEL_47cd7ccfc873411d8c9a23b662f4281e",
            "value": "Map: 100%"
          }
        },
        "750dd97c5e594162b63225e081625ad1": {
          "model_module": "@jupyter-widgets/controls",
          "model_module_version": "1.5.0",
          "model_name": "ProgressStyleModel",
          "state": {
            "_model_module": "@jupyter-widgets/controls",
            "_model_module_version": "1.5.0",
            "_model_name": "ProgressStyleModel",
            "_view_count": null,
            "_view_module": "@jupyter-widgets/base",
            "_view_module_version": "1.2.0",
            "_view_name": "StyleView",
            "bar_color": null,
            "description_width": ""
          }
        },
        "76dc9b3d429c43a5ad9bc9742bc4ce2c": {
          "model_module": "@jupyter-widgets/base",
          "model_module_version": "1.2.0",
          "model_name": "LayoutModel",
          "state": {
            "_model_module": "@jupyter-widgets/base",
            "_model_module_version": "1.2.0",
            "_model_name": "LayoutModel",
            "_view_count": null,
            "_view_module": "@jupyter-widgets/base",
            "_view_module_version": "1.2.0",
            "_view_name": "LayoutView",
            "align_content": null,
            "align_items": null,
            "align_self": null,
            "border": null,
            "bottom": null,
            "display": null,
            "flex": null,
            "flex_flow": null,
            "grid_area": null,
            "grid_auto_columns": null,
            "grid_auto_flow": null,
            "grid_auto_rows": null,
            "grid_column": null,
            "grid_gap": null,
            "grid_row": null,
            "grid_template_areas": null,
            "grid_template_columns": null,
            "grid_template_rows": null,
            "height": null,
            "justify_content": null,
            "justify_items": null,
            "left": null,
            "margin": null,
            "max_height": null,
            "max_width": null,
            "min_height": null,
            "min_width": null,
            "object_fit": null,
            "object_position": null,
            "order": null,
            "overflow": null,
            "overflow_x": null,
            "overflow_y": null,
            "padding": null,
            "right": null,
            "top": null,
            "visibility": null,
            "width": null
          }
        },
        "7cfd5ddde48d4325a7d4456b37d2b646": {
          "model_module": "@jupyter-widgets/controls",
          "model_module_version": "1.5.0",
          "model_name": "FloatProgressModel",
          "state": {
            "_dom_classes": [],
            "_model_module": "@jupyter-widgets/controls",
            "_model_module_version": "1.5.0",
            "_model_name": "FloatProgressModel",
            "_view_count": null,
            "_view_module": "@jupyter-widgets/controls",
            "_view_module_version": "1.5.0",
            "_view_name": "ProgressView",
            "bar_style": "success",
            "description": "",
            "description_tooltip": null,
            "layout": "IPY_MODEL_e443b337d3d2417da82827bf291aa8ae",
            "max": 1715,
            "min": 0,
            "orientation": "horizontal",
            "style": "IPY_MODEL_ca9101b11056477ab47e41ffac9d81ff",
            "value": 1715
          }
        },
        "87290a3479614e149efa0a78fc859428": {
          "model_module": "@jupyter-widgets/base",
          "model_module_version": "1.2.0",
          "model_name": "LayoutModel",
          "state": {
            "_model_module": "@jupyter-widgets/base",
            "_model_module_version": "1.2.0",
            "_model_name": "LayoutModel",
            "_view_count": null,
            "_view_module": "@jupyter-widgets/base",
            "_view_module_version": "1.2.0",
            "_view_name": "LayoutView",
            "align_content": null,
            "align_items": null,
            "align_self": null,
            "border": null,
            "bottom": null,
            "display": null,
            "flex": null,
            "flex_flow": null,
            "grid_area": null,
            "grid_auto_columns": null,
            "grid_auto_flow": null,
            "grid_auto_rows": null,
            "grid_column": null,
            "grid_gap": null,
            "grid_row": null,
            "grid_template_areas": null,
            "grid_template_columns": null,
            "grid_template_rows": null,
            "height": null,
            "justify_content": null,
            "justify_items": null,
            "left": null,
            "margin": null,
            "max_height": null,
            "max_width": null,
            "min_height": null,
            "min_width": null,
            "object_fit": null,
            "object_position": null,
            "order": null,
            "overflow": null,
            "overflow_x": null,
            "overflow_y": null,
            "padding": null,
            "right": null,
            "top": null,
            "visibility": null,
            "width": null
          }
        },
        "8b772d2209684204a7df81fba9d1256d": {
          "model_module": "@jupyter-widgets/controls",
          "model_module_version": "1.5.0",
          "model_name": "HTMLModel",
          "state": {
            "_dom_classes": [],
            "_model_module": "@jupyter-widgets/controls",
            "_model_module_version": "1.5.0",
            "_model_name": "HTMLModel",
            "_view_count": null,
            "_view_module": "@jupyter-widgets/controls",
            "_view_module_version": "1.5.0",
            "_view_name": "HTMLView",
            "description": "",
            "description_tooltip": null,
            "layout": "IPY_MODEL_76dc9b3d429c43a5ad9bc9742bc4ce2c",
            "placeholder": "​",
            "style": "IPY_MODEL_3c39dc85be3644a38e13c19e8e2534ce",
            "value": " 221/221 [00:00&lt;00:00, 910.05 examples/s]"
          }
        },
        "913f3b1f044642b59736782d00456241": {
          "model_module": "@jupyter-widgets/controls",
          "model_module_version": "1.5.0",
          "model_name": "ProgressStyleModel",
          "state": {
            "_model_module": "@jupyter-widgets/controls",
            "_model_module_version": "1.5.0",
            "_model_name": "ProgressStyleModel",
            "_view_count": null,
            "_view_module": "@jupyter-widgets/base",
            "_view_module_version": "1.2.0",
            "_view_name": "StyleView",
            "bar_color": null,
            "description_width": ""
          }
        },
        "95194b080d8b422a82ba83f3ea421858": {
          "model_module": "@jupyter-widgets/base",
          "model_module_version": "1.2.0",
          "model_name": "LayoutModel",
          "state": {
            "_model_module": "@jupyter-widgets/base",
            "_model_module_version": "1.2.0",
            "_model_name": "LayoutModel",
            "_view_count": null,
            "_view_module": "@jupyter-widgets/base",
            "_view_module_version": "1.2.0",
            "_view_name": "LayoutView",
            "align_content": null,
            "align_items": null,
            "align_self": null,
            "border": null,
            "bottom": null,
            "display": null,
            "flex": null,
            "flex_flow": null,
            "grid_area": null,
            "grid_auto_columns": null,
            "grid_auto_flow": null,
            "grid_auto_rows": null,
            "grid_column": null,
            "grid_gap": null,
            "grid_row": null,
            "grid_template_areas": null,
            "grid_template_columns": null,
            "grid_template_rows": null,
            "height": null,
            "justify_content": null,
            "justify_items": null,
            "left": null,
            "margin": null,
            "max_height": null,
            "max_width": null,
            "min_height": null,
            "min_width": null,
            "object_fit": null,
            "object_position": null,
            "order": null,
            "overflow": null,
            "overflow_x": null,
            "overflow_y": null,
            "padding": null,
            "right": null,
            "top": null,
            "visibility": null,
            "width": null
          }
        },
        "9afcfb85fb0a4b49a3ceb561193a70ec": {
          "model_module": "@jupyter-widgets/base",
          "model_module_version": "1.2.0",
          "model_name": "LayoutModel",
          "state": {
            "_model_module": "@jupyter-widgets/base",
            "_model_module_version": "1.2.0",
            "_model_name": "LayoutModel",
            "_view_count": null,
            "_view_module": "@jupyter-widgets/base",
            "_view_module_version": "1.2.0",
            "_view_name": "LayoutView",
            "align_content": null,
            "align_items": null,
            "align_self": null,
            "border": null,
            "bottom": null,
            "display": null,
            "flex": null,
            "flex_flow": null,
            "grid_area": null,
            "grid_auto_columns": null,
            "grid_auto_flow": null,
            "grid_auto_rows": null,
            "grid_column": null,
            "grid_gap": null,
            "grid_row": null,
            "grid_template_areas": null,
            "grid_template_columns": null,
            "grid_template_rows": null,
            "height": null,
            "justify_content": null,
            "justify_items": null,
            "left": null,
            "margin": null,
            "max_height": null,
            "max_width": null,
            "min_height": null,
            "min_width": null,
            "object_fit": null,
            "object_position": null,
            "order": null,
            "overflow": null,
            "overflow_x": null,
            "overflow_y": null,
            "padding": null,
            "right": null,
            "top": null,
            "visibility": null,
            "width": null
          }
        },
        "a36e73253dfc41b68062ee17bcf6eb99": {
          "model_module": "@jupyter-widgets/base",
          "model_module_version": "1.2.0",
          "model_name": "LayoutModel",
          "state": {
            "_model_module": "@jupyter-widgets/base",
            "_model_module_version": "1.2.0",
            "_model_name": "LayoutModel",
            "_view_count": null,
            "_view_module": "@jupyter-widgets/base",
            "_view_module_version": "1.2.0",
            "_view_name": "LayoutView",
            "align_content": null,
            "align_items": null,
            "align_self": null,
            "border": null,
            "bottom": null,
            "display": null,
            "flex": null,
            "flex_flow": null,
            "grid_area": null,
            "grid_auto_columns": null,
            "grid_auto_flow": null,
            "grid_auto_rows": null,
            "grid_column": null,
            "grid_gap": null,
            "grid_row": null,
            "grid_template_areas": null,
            "grid_template_columns": null,
            "grid_template_rows": null,
            "height": null,
            "justify_content": null,
            "justify_items": null,
            "left": null,
            "margin": null,
            "max_height": null,
            "max_width": null,
            "min_height": null,
            "min_width": null,
            "object_fit": null,
            "object_position": null,
            "order": null,
            "overflow": null,
            "overflow_x": null,
            "overflow_y": null,
            "padding": null,
            "right": null,
            "top": null,
            "visibility": null,
            "width": null
          }
        },
        "a3f8747428074cf58164510a35cba790": {
          "model_module": "@jupyter-widgets/controls",
          "model_module_version": "1.5.0",
          "model_name": "FloatProgressModel",
          "state": {
            "_dom_classes": [],
            "_model_module": "@jupyter-widgets/controls",
            "_model_module_version": "1.5.0",
            "_model_name": "FloatProgressModel",
            "_view_count": null,
            "_view_module": "@jupyter-widgets/controls",
            "_view_module_version": "1.5.0",
            "_view_name": "ProgressView",
            "bar_style": "success",
            "description": "",
            "description_tooltip": null,
            "layout": "IPY_MODEL_a36e73253dfc41b68062ee17bcf6eb99",
            "max": 222,
            "min": 0,
            "orientation": "horizontal",
            "style": "IPY_MODEL_c0d6eae7d1ef42c3918b25d6a61e3632",
            "value": 222
          }
        },
        "a5ef7089ef4a404ba1f41069103d5890": {
          "model_module": "@jupyter-widgets/controls",
          "model_module_version": "1.5.0",
          "model_name": "FloatProgressModel",
          "state": {
            "_dom_classes": [],
            "_model_module": "@jupyter-widgets/controls",
            "_model_module_version": "1.5.0",
            "_model_name": "FloatProgressModel",
            "_view_count": null,
            "_view_module": "@jupyter-widgets/controls",
            "_view_module_version": "1.5.0",
            "_view_name": "ProgressView",
            "bar_style": "success",
            "description": "",
            "description_tooltip": null,
            "layout": "IPY_MODEL_9afcfb85fb0a4b49a3ceb561193a70ec",
            "max": 1109,
            "min": 0,
            "orientation": "horizontal",
            "style": "IPY_MODEL_750dd97c5e594162b63225e081625ad1",
            "value": 1109
          }
        },
        "a65f081ac704488dbb48e09d366b9800": {
          "model_module": "@jupyter-widgets/controls",
          "model_module_version": "1.5.0",
          "model_name": "HTMLModel",
          "state": {
            "_dom_classes": [],
            "_model_module": "@jupyter-widgets/controls",
            "_model_module_version": "1.5.0",
            "_model_name": "HTMLModel",
            "_view_count": null,
            "_view_module": "@jupyter-widgets/controls",
            "_view_module_version": "1.5.0",
            "_view_name": "HTMLView",
            "description": "",
            "description_tooltip": null,
            "layout": "IPY_MODEL_28470ae28935407e9803a7e684958c8b",
            "placeholder": "​",
            "style": "IPY_MODEL_bcc5acb5d4f6473286194da61876c15b",
            "value": " 222/222 [00:00&lt;00:00, 582.20 examples/s]"
          }
        },
        "ab0d4275f4714c4ea5eee194f3d0a2ff": {
          "model_module": "@jupyter-widgets/controls",
          "model_module_version": "1.5.0",
          "model_name": "HTMLModel",
          "state": {
            "_dom_classes": [],
            "_model_module": "@jupyter-widgets/controls",
            "_model_module_version": "1.5.0",
            "_model_name": "HTMLModel",
            "_view_count": null,
            "_view_module": "@jupyter-widgets/controls",
            "_view_module_version": "1.5.0",
            "_view_name": "HTMLView",
            "description": "",
            "description_tooltip": null,
            "layout": "IPY_MODEL_61385e5108304ddeb1dda6a0f9ae4d1b",
            "placeholder": "​",
            "style": "IPY_MODEL_00ffd31a360a4ac5aed1af0dc6c020fb",
            "value": " 4.50k/? [00:00&lt;00:00, 169kB/s]"
          }
        },
        "acea058cf5ee45e79df24591d36e8541": {
          "model_module": "@jupyter-widgets/controls",
          "model_module_version": "1.5.0",
          "model_name": "HBoxModel",
          "state": {
            "_dom_classes": [],
            "_model_module": "@jupyter-widgets/controls",
            "_model_module_version": "1.5.0",
            "_model_name": "HBoxModel",
            "_view_count": null,
            "_view_module": "@jupyter-widgets/controls",
            "_view_module_version": "1.5.0",
            "_view_name": "HBoxView",
            "box_style": "",
            "children": [
              "IPY_MODEL_73df382fe0484060a3631854096201c2",
              "IPY_MODEL_ee7ecc8e54cd435cbec326d566dd240f",
              "IPY_MODEL_a65f081ac704488dbb48e09d366b9800"
            ],
            "layout": "IPY_MODEL_e47e7de5bc5d4c5688efcbbf6bd3b4a1"
          }
        },
        "b49ac04609ba41a4a678222e16c4f270": {
          "model_module": "@jupyter-widgets/controls",
          "model_module_version": "1.5.0",
          "model_name": "DescriptionStyleModel",
          "state": {
            "_model_module": "@jupyter-widgets/controls",
            "_model_module_version": "1.5.0",
            "_model_name": "DescriptionStyleModel",
            "_view_count": null,
            "_view_module": "@jupyter-widgets/base",
            "_view_module_version": "1.2.0",
            "_view_name": "StyleView",
            "description_width": ""
          }
        },
        "b67f3666ae8a4f28ad441e8e9b01b97b": {
          "model_module": "@jupyter-widgets/controls",
          "model_module_version": "1.5.0",
          "model_name": "HTMLModel",
          "state": {
            "_dom_classes": [],
            "_model_module": "@jupyter-widgets/controls",
            "_model_module_version": "1.5.0",
            "_model_name": "HTMLModel",
            "_view_count": null,
            "_view_module": "@jupyter-widgets/controls",
            "_view_module_version": "1.5.0",
            "_view_name": "HTMLView",
            "description": "",
            "description_tooltip": null,
            "layout": "IPY_MODEL_309b1ae259b84c8b80d453b5ca116651",
            "placeholder": "​",
            "style": "IPY_MODEL_ebcaa0217c224530a88e554ffbbea504",
            "value": "Map: 100%"
          }
        },
        "b6876dbbc7ec4db786bee4e8fe266a44": {
          "model_module": "@jupyter-widgets/controls",
          "model_module_version": "1.5.0",
          "model_name": "DescriptionStyleModel",
          "state": {
            "_model_module": "@jupyter-widgets/controls",
            "_model_module_version": "1.5.0",
            "_model_name": "DescriptionStyleModel",
            "_view_count": null,
            "_view_module": "@jupyter-widgets/base",
            "_view_module_version": "1.2.0",
            "_view_name": "StyleView",
            "description_width": ""
          }
        },
        "b78370b160e3469e92bdc76758255fe7": {
          "model_module": "@jupyter-widgets/controls",
          "model_module_version": "1.5.0",
          "model_name": "FloatProgressModel",
          "state": {
            "_dom_classes": [],
            "_model_module": "@jupyter-widgets/controls",
            "_model_module_version": "1.5.0",
            "_model_name": "FloatProgressModel",
            "_view_count": null,
            "_view_module": "@jupyter-widgets/controls",
            "_view_module_version": "1.5.0",
            "_view_name": "ProgressView",
            "bar_style": "success",
            "description": "",
            "description_tooltip": null,
            "layout": "IPY_MODEL_49da74efdbd74f7794288ffb9490ac9a",
            "max": 1770,
            "min": 0,
            "orientation": "horizontal",
            "style": "IPY_MODEL_0211d6c4fd4142aea8cd59ee4197effa",
            "value": 1770
          }
        },
        "bbc27ce883974bd5bf633ad7c720de60": {
          "model_module": "@jupyter-widgets/controls",
          "model_module_version": "1.5.0",
          "model_name": "DescriptionStyleModel",
          "state": {
            "_model_module": "@jupyter-widgets/controls",
            "_model_module_version": "1.5.0",
            "_model_name": "DescriptionStyleModel",
            "_view_count": null,
            "_view_module": "@jupyter-widgets/base",
            "_view_module_version": "1.2.0",
            "_view_name": "StyleView",
            "description_width": ""
          }
        },
        "bc9bfd9119ba4a598b6cbc0fef47a9f2": {
          "model_module": "@jupyter-widgets/base",
          "model_module_version": "1.2.0",
          "model_name": "LayoutModel",
          "state": {
            "_model_module": "@jupyter-widgets/base",
            "_model_module_version": "1.2.0",
            "_model_name": "LayoutModel",
            "_view_count": null,
            "_view_module": "@jupyter-widgets/base",
            "_view_module_version": "1.2.0",
            "_view_name": "LayoutView",
            "align_content": null,
            "align_items": null,
            "align_self": null,
            "border": null,
            "bottom": null,
            "display": null,
            "flex": null,
            "flex_flow": null,
            "grid_area": null,
            "grid_auto_columns": null,
            "grid_auto_flow": null,
            "grid_auto_rows": null,
            "grid_column": null,
            "grid_gap": null,
            "grid_row": null,
            "grid_template_areas": null,
            "grid_template_columns": null,
            "grid_template_rows": null,
            "height": null,
            "justify_content": null,
            "justify_items": null,
            "left": null,
            "margin": null,
            "max_height": null,
            "max_width": null,
            "min_height": null,
            "min_width": null,
            "object_fit": null,
            "object_position": null,
            "order": null,
            "overflow": null,
            "overflow_x": null,
            "overflow_y": null,
            "padding": null,
            "right": null,
            "top": null,
            "visibility": null,
            "width": null
          }
        },
        "bcc5acb5d4f6473286194da61876c15b": {
          "model_module": "@jupyter-widgets/controls",
          "model_module_version": "1.5.0",
          "model_name": "DescriptionStyleModel",
          "state": {
            "_model_module": "@jupyter-widgets/controls",
            "_model_module_version": "1.5.0",
            "_model_name": "DescriptionStyleModel",
            "_view_count": null,
            "_view_module": "@jupyter-widgets/base",
            "_view_module_version": "1.2.0",
            "_view_name": "StyleView",
            "description_width": ""
          }
        },
        "c0d6eae7d1ef42c3918b25d6a61e3632": {
          "model_module": "@jupyter-widgets/controls",
          "model_module_version": "1.5.0",
          "model_name": "ProgressStyleModel",
          "state": {
            "_model_module": "@jupyter-widgets/controls",
            "_model_module_version": "1.5.0",
            "_model_name": "ProgressStyleModel",
            "_view_count": null,
            "_view_module": "@jupyter-widgets/base",
            "_view_module_version": "1.2.0",
            "_view_name": "StyleView",
            "bar_color": null,
            "description_width": ""
          }
        },
        "ca9101b11056477ab47e41ffac9d81ff": {
          "model_module": "@jupyter-widgets/controls",
          "model_module_version": "1.5.0",
          "model_name": "ProgressStyleModel",
          "state": {
            "_model_module": "@jupyter-widgets/controls",
            "_model_module_version": "1.5.0",
            "_model_name": "ProgressStyleModel",
            "_view_count": null,
            "_view_module": "@jupyter-widgets/base",
            "_view_module_version": "1.2.0",
            "_view_name": "StyleView",
            "bar_color": null,
            "description_width": ""
          }
        },
        "cbe17375ea1041fba697fd19094fffbc": {
          "model_module": "@jupyter-widgets/controls",
          "model_module_version": "1.5.0",
          "model_name": "DescriptionStyleModel",
          "state": {
            "_model_module": "@jupyter-widgets/controls",
            "_model_module_version": "1.5.0",
            "_model_name": "DescriptionStyleModel",
            "_view_count": null,
            "_view_module": "@jupyter-widgets/base",
            "_view_module_version": "1.2.0",
            "_view_name": "StyleView",
            "description_width": ""
          }
        },
        "d11b1ad67065498494b715f23a3a3b96": {
          "model_module": "@jupyter-widgets/base",
          "model_module_version": "1.2.0",
          "model_name": "LayoutModel",
          "state": {
            "_model_module": "@jupyter-widgets/base",
            "_model_module_version": "1.2.0",
            "_model_name": "LayoutModel",
            "_view_count": null,
            "_view_module": "@jupyter-widgets/base",
            "_view_module_version": "1.2.0",
            "_view_name": "LayoutView",
            "align_content": null,
            "align_items": null,
            "align_self": null,
            "border": null,
            "bottom": null,
            "display": null,
            "flex": null,
            "flex_flow": null,
            "grid_area": null,
            "grid_auto_columns": null,
            "grid_auto_flow": null,
            "grid_auto_rows": null,
            "grid_column": null,
            "grid_gap": null,
            "grid_row": null,
            "grid_template_areas": null,
            "grid_template_columns": null,
            "grid_template_rows": null,
            "height": null,
            "justify_content": null,
            "justify_items": null,
            "left": null,
            "margin": null,
            "max_height": null,
            "max_width": null,
            "min_height": null,
            "min_width": null,
            "object_fit": null,
            "object_position": null,
            "order": null,
            "overflow": null,
            "overflow_x": null,
            "overflow_y": null,
            "padding": null,
            "right": null,
            "top": null,
            "visibility": null,
            "width": null
          }
        },
        "d595b581614a4ed196f148b2cbb0bfc0": {
          "model_module": "@jupyter-widgets/controls",
          "model_module_version": "1.5.0",
          "model_name": "DescriptionStyleModel",
          "state": {
            "_model_module": "@jupyter-widgets/controls",
            "_model_module_version": "1.5.0",
            "_model_name": "DescriptionStyleModel",
            "_view_count": null,
            "_view_module": "@jupyter-widgets/base",
            "_view_module_version": "1.2.0",
            "_view_name": "StyleView",
            "description_width": ""
          }
        },
        "d88be4a527244b28b293c06984450c7c": {
          "model_module": "@jupyter-widgets/controls",
          "model_module_version": "1.5.0",
          "model_name": "HBoxModel",
          "state": {
            "_dom_classes": [],
            "_model_module": "@jupyter-widgets/controls",
            "_model_module_version": "1.5.0",
            "_model_name": "HBoxModel",
            "_view_count": null,
            "_view_module": "@jupyter-widgets/controls",
            "_view_module_version": "1.5.0",
            "_view_name": "HBoxView",
            "box_style": "",
            "children": [
              "IPY_MODEL_17e5be95a9db414c8bb5388e02c6ab3c",
              "IPY_MODEL_7cfd5ddde48d4325a7d4456b37d2b646",
              "IPY_MODEL_ab0d4275f4714c4ea5eee194f3d0a2ff"
            ],
            "layout": "IPY_MODEL_056ff7eaa461486d9d2d5203512cc086"
          }
        },
        "d988b23474a64d3c9fbf6484d5571da5": {
          "model_module": "@jupyter-widgets/controls",
          "model_module_version": "1.5.0",
          "model_name": "ProgressStyleModel",
          "state": {
            "_model_module": "@jupyter-widgets/controls",
            "_model_module_version": "1.5.0",
            "_model_name": "ProgressStyleModel",
            "_view_count": null,
            "_view_module": "@jupyter-widgets/base",
            "_view_module_version": "1.2.0",
            "_view_name": "StyleView",
            "bar_color": null,
            "description_width": ""
          }
        },
        "de70f1365c784bcebb7b7d76adfbfcb5": {
          "model_module": "@jupyter-widgets/controls",
          "model_module_version": "1.5.0",
          "model_name": "HBoxModel",
          "state": {
            "_dom_classes": [],
            "_model_module": "@jupyter-widgets/controls",
            "_model_module_version": "1.5.0",
            "_model_name": "HBoxModel",
            "_view_count": null,
            "_view_module": "@jupyter-widgets/controls",
            "_view_module_version": "1.5.0",
            "_view_name": "HBoxView",
            "box_style": "",
            "children": [
              "IPY_MODEL_e0aa4abf688e4311a9c7a77ceb6fff32",
              "IPY_MODEL_ffd3056c826e4850b52f7d125d10fde7",
              "IPY_MODEL_8b772d2209684204a7df81fba9d1256d"
            ],
            "layout": "IPY_MODEL_734dc0aeb760433d8b52cd5a90e7095d"
          }
        },
        "e0aa4abf688e4311a9c7a77ceb6fff32": {
          "model_module": "@jupyter-widgets/controls",
          "model_module_version": "1.5.0",
          "model_name": "HTMLModel",
          "state": {
            "_dom_classes": [],
            "_model_module": "@jupyter-widgets/controls",
            "_model_module_version": "1.5.0",
            "_model_name": "HTMLModel",
            "_view_count": null,
            "_view_module": "@jupyter-widgets/controls",
            "_view_module_version": "1.5.0",
            "_view_name": "HTMLView",
            "description": "",
            "description_tooltip": null,
            "layout": "IPY_MODEL_1ef2f9eb32e341f2ae4183485ca72e0c",
            "placeholder": "​",
            "style": "IPY_MODEL_b6876dbbc7ec4db786bee4e8fe266a44",
            "value": "Map: 100%"
          }
        },
        "e1dd0f3c11294e0caf6b86b990b779cf": {
          "model_module": "@jupyter-widgets/controls",
          "model_module_version": "1.5.0",
          "model_name": "HBoxModel",
          "state": {
            "_dom_classes": [],
            "_model_module": "@jupyter-widgets/controls",
            "_model_module_version": "1.5.0",
            "_model_name": "HBoxModel",
            "_view_count": null,
            "_view_module": "@jupyter-widgets/controls",
            "_view_module_version": "1.5.0",
            "_view_name": "HBoxView",
            "box_style": "",
            "children": [
              "IPY_MODEL_00dffe0b19b449738489f0f2be3eb530",
              "IPY_MODEL_a3f8747428074cf58164510a35cba790",
              "IPY_MODEL_48a0800535034222ba449f42f8095f67"
            ],
            "layout": "IPY_MODEL_717a724fc1704a51a56b15b079f9adf4"
          }
        },
        "e44296d4f9464288aa6e88ce034aa4ff": {
          "model_module": "@jupyter-widgets/controls",
          "model_module_version": "1.5.0",
          "model_name": "FloatProgressModel",
          "state": {
            "_dom_classes": [],
            "_model_module": "@jupyter-widgets/controls",
            "_model_module_version": "1.5.0",
            "_model_name": "FloatProgressModel",
            "_view_count": null,
            "_view_module": "@jupyter-widgets/controls",
            "_view_module_version": "1.5.0",
            "_view_name": "ProgressView",
            "bar_style": "success",
            "description": "",
            "description_tooltip": null,
            "layout": "IPY_MODEL_6affb5a86fa345a38c6147a545ff9885",
            "max": 222,
            "min": 0,
            "orientation": "horizontal",
            "style": "IPY_MODEL_53dba3829ed1452fae3f0f1ead3c99af",
            "value": 222
          }
        },
        "e443b337d3d2417da82827bf291aa8ae": {
          "model_module": "@jupyter-widgets/base",
          "model_module_version": "1.2.0",
          "model_name": "LayoutModel",
          "state": {
            "_model_module": "@jupyter-widgets/base",
            "_model_module_version": "1.2.0",
            "_model_name": "LayoutModel",
            "_view_count": null,
            "_view_module": "@jupyter-widgets/base",
            "_view_module_version": "1.2.0",
            "_view_name": "LayoutView",
            "align_content": null,
            "align_items": null,
            "align_self": null,
            "border": null,
            "bottom": null,
            "display": null,
            "flex": null,
            "flex_flow": null,
            "grid_area": null,
            "grid_auto_columns": null,
            "grid_auto_flow": null,
            "grid_auto_rows": null,
            "grid_column": null,
            "grid_gap": null,
            "grid_row": null,
            "grid_template_areas": null,
            "grid_template_columns": null,
            "grid_template_rows": null,
            "height": null,
            "justify_content": null,
            "justify_items": null,
            "left": null,
            "margin": null,
            "max_height": null,
            "max_width": null,
            "min_height": null,
            "min_width": null,
            "object_fit": null,
            "object_position": null,
            "order": null,
            "overflow": null,
            "overflow_x": null,
            "overflow_y": null,
            "padding": null,
            "right": null,
            "top": null,
            "visibility": null,
            "width": null
          }
        },
        "e47e7de5bc5d4c5688efcbbf6bd3b4a1": {
          "model_module": "@jupyter-widgets/base",
          "model_module_version": "1.2.0",
          "model_name": "LayoutModel",
          "state": {
            "_model_module": "@jupyter-widgets/base",
            "_model_module_version": "1.2.0",
            "_model_name": "LayoutModel",
            "_view_count": null,
            "_view_module": "@jupyter-widgets/base",
            "_view_module_version": "1.2.0",
            "_view_name": "LayoutView",
            "align_content": null,
            "align_items": null,
            "align_self": null,
            "border": null,
            "bottom": null,
            "display": null,
            "flex": null,
            "flex_flow": null,
            "grid_area": null,
            "grid_auto_columns": null,
            "grid_auto_flow": null,
            "grid_auto_rows": null,
            "grid_column": null,
            "grid_gap": null,
            "grid_row": null,
            "grid_template_areas": null,
            "grid_template_columns": null,
            "grid_template_rows": null,
            "height": null,
            "justify_content": null,
            "justify_items": null,
            "left": null,
            "margin": null,
            "max_height": null,
            "max_width": null,
            "min_height": null,
            "min_width": null,
            "object_fit": null,
            "object_position": null,
            "order": null,
            "overflow": null,
            "overflow_x": null,
            "overflow_y": null,
            "padding": null,
            "right": null,
            "top": null,
            "visibility": null,
            "width": null
          }
        },
        "e769038e6ed948358f4aa794fa791a89": {
          "model_module": "@jupyter-widgets/base",
          "model_module_version": "1.2.0",
          "model_name": "LayoutModel",
          "state": {
            "_model_module": "@jupyter-widgets/base",
            "_model_module_version": "1.2.0",
            "_model_name": "LayoutModel",
            "_view_count": null,
            "_view_module": "@jupyter-widgets/base",
            "_view_module_version": "1.2.0",
            "_view_name": "LayoutView",
            "align_content": null,
            "align_items": null,
            "align_self": null,
            "border": null,
            "bottom": null,
            "display": null,
            "flex": null,
            "flex_flow": null,
            "grid_area": null,
            "grid_auto_columns": null,
            "grid_auto_flow": null,
            "grid_auto_rows": null,
            "grid_column": null,
            "grid_gap": null,
            "grid_row": null,
            "grid_template_areas": null,
            "grid_template_columns": null,
            "grid_template_rows": null,
            "height": null,
            "justify_content": null,
            "justify_items": null,
            "left": null,
            "margin": null,
            "max_height": null,
            "max_width": null,
            "min_height": null,
            "min_width": null,
            "object_fit": null,
            "object_position": null,
            "order": null,
            "overflow": null,
            "overflow_x": null,
            "overflow_y": null,
            "padding": null,
            "right": null,
            "top": null,
            "visibility": null,
            "width": null
          }
        },
        "ebcaa0217c224530a88e554ffbbea504": {
          "model_module": "@jupyter-widgets/controls",
          "model_module_version": "1.5.0",
          "model_name": "DescriptionStyleModel",
          "state": {
            "_model_module": "@jupyter-widgets/controls",
            "_model_module_version": "1.5.0",
            "_model_name": "DescriptionStyleModel",
            "_view_count": null,
            "_view_module": "@jupyter-widgets/base",
            "_view_module_version": "1.2.0",
            "_view_name": "StyleView",
            "description_width": ""
          }
        },
        "ee7ecc8e54cd435cbec326d566dd240f": {
          "model_module": "@jupyter-widgets/controls",
          "model_module_version": "1.5.0",
          "model_name": "FloatProgressModel",
          "state": {
            "_dom_classes": [],
            "_model_module": "@jupyter-widgets/controls",
            "_model_module_version": "1.5.0",
            "_model_name": "FloatProgressModel",
            "_view_count": null,
            "_view_module": "@jupyter-widgets/controls",
            "_view_module_version": "1.5.0",
            "_view_name": "ProgressView",
            "bar_style": "success",
            "description": "",
            "description_tooltip": null,
            "layout": "IPY_MODEL_d11b1ad67065498494b715f23a3a3b96",
            "max": 222,
            "min": 0,
            "orientation": "horizontal",
            "style": "IPY_MODEL_d988b23474a64d3c9fbf6484d5571da5",
            "value": 222
          }
        },
        "f363a2fb28be464dbe6827df508fb1fb": {
          "model_module": "@jupyter-widgets/controls",
          "model_module_version": "1.5.0",
          "model_name": "HTMLModel",
          "state": {
            "_dom_classes": [],
            "_model_module": "@jupyter-widgets/controls",
            "_model_module_version": "1.5.0",
            "_model_name": "HTMLModel",
            "_view_count": null,
            "_view_module": "@jupyter-widgets/controls",
            "_view_module_version": "1.5.0",
            "_view_name": "HTMLView",
            "description": "",
            "description_tooltip": null,
            "layout": "IPY_MODEL_bc9bfd9119ba4a598b6cbc0fef47a9f2",
            "placeholder": "​",
            "style": "IPY_MODEL_fe42de9e153b46199b1316b11713ae0b",
            "value": " 3.30k/? [00:00&lt;00:00, 124kB/s]"
          }
        },
        "f5876b16a1e447f5b85ee89278c3b6e2": {
          "model_module": "@jupyter-widgets/controls",
          "model_module_version": "1.5.0",
          "model_name": "DescriptionStyleModel",
          "state": {
            "_model_module": "@jupyter-widgets/controls",
            "_model_module_version": "1.5.0",
            "_model_name": "DescriptionStyleModel",
            "_view_count": null,
            "_view_module": "@jupyter-widgets/base",
            "_view_module_version": "1.2.0",
            "_view_name": "StyleView",
            "description_width": ""
          }
        },
        "fc65a8939ee04b25a21d714e57adf10a": {
          "model_module": "@jupyter-widgets/base",
          "model_module_version": "1.2.0",
          "model_name": "LayoutModel",
          "state": {
            "_model_module": "@jupyter-widgets/base",
            "_model_module_version": "1.2.0",
            "_model_name": "LayoutModel",
            "_view_count": null,
            "_view_module": "@jupyter-widgets/base",
            "_view_module_version": "1.2.0",
            "_view_name": "LayoutView",
            "align_content": null,
            "align_items": null,
            "align_self": null,
            "border": null,
            "bottom": null,
            "display": null,
            "flex": null,
            "flex_flow": null,
            "grid_area": null,
            "grid_auto_columns": null,
            "grid_auto_flow": null,
            "grid_auto_rows": null,
            "grid_column": null,
            "grid_gap": null,
            "grid_row": null,
            "grid_template_areas": null,
            "grid_template_columns": null,
            "grid_template_rows": null,
            "height": null,
            "justify_content": null,
            "justify_items": null,
            "left": null,
            "margin": null,
            "max_height": null,
            "max_width": null,
            "min_height": null,
            "min_width": null,
            "object_fit": null,
            "object_position": null,
            "order": null,
            "overflow": null,
            "overflow_x": null,
            "overflow_y": null,
            "padding": null,
            "right": null,
            "top": null,
            "visibility": null,
            "width": null
          }
        },
        "fe42de9e153b46199b1316b11713ae0b": {
          "model_module": "@jupyter-widgets/controls",
          "model_module_version": "1.5.0",
          "model_name": "DescriptionStyleModel",
          "state": {
            "_model_module": "@jupyter-widgets/controls",
            "_model_module_version": "1.5.0",
            "_model_name": "DescriptionStyleModel",
            "_view_count": null,
            "_view_module": "@jupyter-widgets/base",
            "_view_module_version": "1.2.0",
            "_view_name": "StyleView",
            "description_width": ""
          }
        },
        "ffd3056c826e4850b52f7d125d10fde7": {
          "model_module": "@jupyter-widgets/controls",
          "model_module_version": "1.5.0",
          "model_name": "FloatProgressModel",
          "state": {
            "_dom_classes": [],
            "_model_module": "@jupyter-widgets/controls",
            "_model_module_version": "1.5.0",
            "_model_name": "FloatProgressModel",
            "_view_count": null,
            "_view_module": "@jupyter-widgets/controls",
            "_view_module_version": "1.5.0",
            "_view_name": "ProgressView",
            "bar_style": "success",
            "description": "",
            "description_tooltip": null,
            "layout": "IPY_MODEL_44b4149fd95d46be97ad2738bc429ba5",
            "max": 221,
            "min": 0,
            "orientation": "horizontal",
            "style": "IPY_MODEL_913f3b1f044642b59736782d00456241",
            "value": 221
          }
        }
      }
    }
  },
  "nbformat": 4,
  "nbformat_minor": 0
}
